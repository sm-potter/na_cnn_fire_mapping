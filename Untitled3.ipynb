{
 "cells": [
  {
   "cell_type": "code",
   "execution_count": null,
   "id": "0b85c9a1-ffd2-4797-a894-b5486a0e946f",
   "metadata": {},
   "outputs": [
    {
     "name": "stderr",
     "output_type": "stream",
     "text": [
      "/home/spotter5/.conda/envs/deeplearning3/lib/python3.10/site-packages/dask/dataframe/_pyarrow_compat.py:17: FutureWarning: Minimal version of pyarrow will soon be increased to 14.0.1. You are using 11.0.0. Please consider upgrading.\n",
      "  warnings.warn(\n"
     ]
    }
   ],
   "source": [
    "import geopandas as gpd\n",
    "import pandas as pd\n",
    "import dask.dataframe as dd\n",
    "from dask import delayed\n",
    "import os\n",
    "\n",
    "# Function to process shapefiles\n",
    "def process_shapefile(file_path):\n",
    "    df = gpd.read_file(file_path)\n",
    "    df['Year'] = pd.to_datetime(df['ACQ_DATE']).dt.year\n",
    "    df['dob'] = pd.to_datetime(df['ACQ_DATE']).dt.dayofyear\n",
    "    return df[['Year', 'dob', 'CONFIDENCE', 'geometry']]\n",
    "\n",
    "# Paths to shapefiles\n",
    "file_one = '/explore/nobackup/people/spotter5/cnn_mapping/VIIRS/DL_FIRE_SV-C2_351277/fire_archive_SV-C2_365468_clip.shp'\n",
    "file_two = '/explore/nobackup/people/spotter5/cnn_mapping/VIIRS/DL_FIRE_SV-C2_517701/fire_archive_SV-C2_517701_clip.shp'\n",
    "aoi_path = '/explore/nobackup/people/spotter5/Moore/raw/ArcticMaps_studydomain.shp'\n",
    "\n",
    "# Read the AOI (Area of Interest) shapefile\n",
    "aoi = gpd.read_file(aoi_path)\n",
    "\n",
    "# Ensure the AOI is in the same CRS as the VIIRS data\n",
    "aoi = aoi.to_crs(crs=gpd.read_file(file_one).crs)\n",
    "\n",
    "# Process the files in parallel\n",
    "one = delayed(process_shapefile)(file_one)\n",
    "two = delayed(process_shapefile)(file_two)\n",
    "\n",
    "# Merge the dataframes\n",
    "viirs = dd.from_delayed([one, two])\n",
    "\n",
    "# Check for unique years\n",
    "unique_years = viirs['Year'].unique().compute()\n",
    "\n",
    "unique_years = range(2012, 2024)\n",
    "\n",
    "# Output path\n",
    "out_path = '/explore/nobackup/people/spotter5/cnn_mapping/VIIRS/pts_by_year/all_conf'\n",
    "os.makedirs(out_path, exist_ok=True)\n",
    "\n",
    "# Function to save and clip shapefiles by year\n",
    "def save_by_year(year, viirs, aoi):\n",
    "    sub = viirs[viirs['Year'] == year].dropna()\n",
    "    sub_gdf = gpd.GeoDataFrame(sub, geometry='geometry')\n",
    "    \n",
    "    # Clip the sub_gdf by the AOI\n",
    "    clipped_gdf = gpd.clip(sub_gdf, aoi)\n",
    "    \n",
    "    output_file = os.path.join(out_path, f'{year}.shp')\n",
    "    clipped_gdf.to_file(output_file)\n",
    "    print(f'Saved {year}.shp')\n",
    "\n",
    "# Save each year in parallel with clipping\n",
    "delayed_tasks = [delayed(save_by_year)(year, viirs, aoi) for year in unique_years]\n",
    "dd.compute(*delayed_tasks)\n"
   ]
  },
  {
   "cell_type": "code",
   "execution_count": null,
   "id": "22948cae-b3fa-46a2-a6ff-10e5e6b8e0d0",
   "metadata": {},
   "outputs": [],
   "source": [
    "'t'"
   ]
  },
  {
   "cell_type": "code",
   "execution_count": null,
   "id": "d8b7b465-29d9-46d2-b4d8-b7271b48a162",
   "metadata": {},
   "outputs": [],
   "source": []
  }
 ],
 "metadata": {
  "kernelspec": {
   "display_name": "Python [conda env:.conda-deeplearning3]",
   "language": "python",
   "name": "conda-env-.conda-deeplearning3-py"
  },
  "language_info": {
   "codemirror_mode": {
    "name": "ipython",
    "version": 3
   },
   "file_extension": ".py",
   "mimetype": "text/x-python",
   "name": "python",
   "nbconvert_exporter": "python",
   "pygments_lexer": "ipython3",
   "version": "3.10.11"
  }
 },
 "nbformat": 4,
 "nbformat_minor": 5
}
