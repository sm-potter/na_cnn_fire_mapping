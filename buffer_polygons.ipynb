{
 "cells": [
  {
   "cell_type": "markdown",
   "id": "32fc9198-c227-4a2f-b81f-ba182fdcc827",
   "metadata": {},
   "source": [
    "Buffer the mtbs/nbac polygons to 1km for later use in earth engine"
   ]
  },
  {
   "cell_type": "code",
   "execution_count": null,
   "id": "5127fa4b-55aa-4b2a-8745-aeab060ac190",
   "metadata": {},
   "outputs": [],
   "source": [
    "\n",
    "\n",
    "library(sf)\n",
    "library(tidyverse)\n",
    "\n",
    "#out path\n",
    "out = '/explore/nobackup/people/spotter5/cnn_mapping/raw_files/buffered_polygons'\n",
    "dir.create(out, recursive = T)\n",
    "\n",
    "#years of interest\n",
    "years = seq(2001, 2023, 1)\n",
    "\n",
    "#combined list  with all polygons\n",
    "all = c()\n",
    "#loop through\n",
    "for (year in years){\n",
    "  \n",
    "\n",
    "  #combined ak mtbs and canadian nbac databases buffered to 1km depending on year\n",
    "  lfdb = read_sf('/explore/nobackup/people/spotter5/cnn_mapping/raw_files/ak_ca_1985.shp') %>% filter(Year == year) %>% st_buffer(1000)\n",
    "  \n",
    "  #save\n",
    "  # write_sf(lfdb, file.path(out, paste0(year, 'shp')))\n",
    "           \n",
    "  all[[length(all) + 1]] = lfdb\n",
    "\n",
    "}\n",
    "\n",
    "all  = bind_rows(all)\n",
    "\n",
    "write_sf(all, file.path(out, '2001_2023_buff.shp'))\n",
    "\n",
    "\n",
    "\n",
    "    \n",
    "\n",
    "\n",
    "     "
   ]
  }
 ],
 "metadata": {
  "kernelspec": {
   "display_name": "",
   "name": ""
  },
  "language_info": {
   "name": ""
  }
 },
 "nbformat": 4,
 "nbformat_minor": 5
}
