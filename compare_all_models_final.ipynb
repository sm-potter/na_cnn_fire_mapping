{
 "cells": [
  {
   "cell_type": "markdown",
   "metadata": {},
   "source": [
    "This script will run the ak and canada models together"
   ]
  },
  {
   "cell_type": "markdown",
   "metadata": {},
   "source": [
    "Read in packages"
   ]
  },
  {
   "cell_type": "code",
   "execution_count": 1,
   "metadata": {},
   "outputs": [
    {
     "name": "stdout",
     "output_type": "stream",
     "text": [
      "Segmentation Models: using `keras` framework.\n"
     ]
    },
    {
     "name": "stderr",
     "output_type": "stream",
     "text": [
      "/home/spotter5/.conda/envs/deeplearning3/lib/python3.10/site-packages/tensorflow_addons/utils/tfa_eol_msg.py:23: UserWarning: \n",
      "\n",
      "TensorFlow Addons (TFA) has ended development and introduction of new features.\n",
      "TFA has entered a minimal maintenance and release mode until a planned end of life in May 2024.\n",
      "Please modify downstream libraries to take dependencies from other repositories in our TensorFlow community (e.g. Keras, Keras-CV, and Keras-NLP). \n",
      "\n",
      "For more information see: https://github.com/tensorflow/addons/issues/2807 \n",
      "\n",
      "  warnings.warn(\n",
      "/home/spotter5/.conda/envs/deeplearning3/lib/python3.10/site-packages/tensorflow_addons/utils/ensure_tf_install.py:53: UserWarning: Tensorflow Addons supports using Python ops for all Tensorflow versions above or equal to 2.13.0 and strictly below 2.16.0 (nightly versions are not supported). \n",
      " The versions of TensorFlow you are currently using is 2.10.0 and is not supported. \n",
      "Some things might work, some things might not.\n",
      "If you were to encounter a bug, do not file an issue.\n",
      "If you want to make sure you're using a tested and supported configuration, either change the TensorFlow version or the TensorFlow Addons's version. \n",
      "You can find the compatibility matrix in TensorFlow Addon's readme:\n",
      "https://github.com/tensorflow/addons\n",
      "  warnings.warn(\n"
     ]
    }
   ],
   "source": [
    "import pandas as pd\n",
    "import logging, os\n",
    "logging.disable(logging.WARNING)\n",
    "os.environ[\"TF_CPP_MIN_LOG_LEVEL\"] = \"3\"\n",
    "import tensorflow\n",
    "from tensorflow.keras.preprocessing.image import load_img\n",
    "from tensorflow.python.lib.io import file_io\n",
    "from tensorflow.python.keras.optimizer_v2.adam import Adam\n",
    "import os\n",
    "import segmentation_models as sm\n",
    "import matplotlib.pyplot as plt\n",
    "import numpy as np\n",
    "#from tensorflow.python.keras.utils.multi_gpu_utils import multi_gpu_model\n",
    "from tensorflow.keras import layers\n",
    "from tensorflow.keras.layers import Dense,Dropout,Activation, Flatten, Conv2D, MaxPooling2D\n",
    "from tensorflow.keras import backend as K\n",
    "from tensorflow.keras.layers import concatenate, Conv2DTranspose, Activation\n",
    "from tensorflow.keras.layers import BatchNormalization\n",
    "from tensorflow.keras.layers import Conv2D, Input, AvgPool2D\n",
    "from tensorflow.keras.models import Model\n",
    "from keras_unet_collection import models\n",
    "import tensorflow_addons as tfa\n",
    "import logging\n",
    "# from tensorflow import tensorflow.keras.mixed_precision.set_global_policy(\"mixed_float16\")"
   ]
  },
  {
   "cell_type": "markdown",
   "metadata": {},
   "source": [
    "Read in the testing data for all four models, plus all the mtbs data for models 1 and 2"
   ]
  },
  {
   "cell_type": "code",
   "execution_count": 2,
   "metadata": {},
   "outputs": [],
   "source": [
    "\n",
    "\n",
    "#----------projected with negative nbac training 128\n",
    "model_test = pd.read_csv('/explore/nobackup/people/spotter5/cnn_mapping/nbac_training/l8_sent_collection2_proj_0_final_128_testing_files.csv')['Files'].tolist()\n",
    "\n",
    "\n",
    "\n",
    "good_ids= pd.read_csv('/explore/nobackup/people/spotter5/cnn_mapping/raw_files/ak_ca_1985_clip.csv')\n",
    "\n",
    "def get_good(in_list, good_frame):\n",
    "    \n",
    "    final = []\n",
    "    for i in in_list:\n",
    "\n",
    "        try:\n",
    "\n",
    "            in_id = int(i.split('/')[-1].split('_')[2].replace('.npy', ''))\n",
    "\n",
    "            if in_id in good_frame['ID']:\n",
    "\n",
    "                final.append(i)\n",
    "        except:\n",
    "            pass\n",
    "        \n",
    "    return final\n",
    "\n",
    "\n",
    "model_test = get_good(model_test, good_ids)\n",
    "\n",
    "#mtbs files to test on \n",
    "land_sent_mtbs_128_train = pd.read_csv('/explore/nobackup/people/spotter5/cnn_mapping/nbac_training/l8_sent_collection2_proj_mtbs_0_128_training_files.csv')['Files'].tolist()\n",
    "land_sent_mtbs_128_val = pd.read_csv('/explore/nobackup/people/spotter5/cnn_mapping/nbac_training/l8_sent_collection2_proj_mtbs_0_128_validation_files.csv')['Files'].tolist()\n",
    "land_sent_mtbs_128_test = pd.read_csv('/explore/nobackup/people/spotter5/cnn_mapping/nbac_training/l8_sent_collection2_proj_mtbs_0_128_testing_files.csv')['Files'].tolist()\n",
    "\n",
    "\n",
    "mtbs = land_sent_mtbs_128_train + land_sent_mtbs_128_val + land_sent_mtbs_128_test\n",
    "\n",
    "#function to get files from storage bucket\n",
    "def get_files(bucket_path):\n",
    "\n",
    "    \"\"\"argument is the path to where the numpy\n",
    "    save files are located, return a list of filenames\n",
    "    \"\"\"\n",
    "    all = []\n",
    "\n",
    "    #list of files\n",
    "    files = os.listdir(bucket_path)\n",
    "\n",
    "    #get list of filenames we will use, notte I remove images that don't have a target due to clouds\n",
    "    file_names = []\n",
    "    for f in files:\n",
    "        \n",
    "        if f.endswith('.npy'):\n",
    "\n",
    "            all.append(os.path.join(bucket_path, f))\n",
    "        \n",
    "    return(all)\n",
    "  \n",
    "\n",
    "\n",
    "\n"
   ]
  },
  {
   "cell_type": "markdown",
   "metadata": {},
   "source": [
    "Set up image generator for dnbr\n"
   ]
  },
  {
   "cell_type": "code",
   "execution_count": 3,
   "metadata": {},
   "outputs": [],
   "source": [
    "from sklearn.preprocessing import MinMaxScaler\n",
    "scaler = MinMaxScaler()\n",
    "\n",
    "min_max = pd.read_csv(\"/explore/nobackup/people/spotter5/cnn_mapping/nbac_training/l8_sent_collection2_global_min_max_cutoff_proj.csv\").reset_index(drop = True)\n",
    "min_max = min_max[['6']]\n",
    "\n",
    "class img_gen(tensorflow.keras.utils.Sequence):\n",
    "\n",
    "    \"\"\"Helper to iterate over the data (as Numpy arrays).\n",
    "    Inputs are batch size, the image size, the input paths (x) and target paths (y)\n",
    "    \"\"\"\n",
    "\n",
    "    #will need pre defined variables batch_size, img_size, input_img_paths and target_img_paths\n",
    "    def __init__(self, batch_size, img_size, input_img_paths):\n",
    "\t    self.batch_size = batch_size\n",
    "\t    self.img_size = img_size\n",
    "\t    self.input_img_paths = input_img_paths\n",
    "\t    self.target_img_paths = input_img_paths\n",
    "\n",
    "    #number of batches the generator is supposed to produceis the length of the paths divided by the batch siize\n",
    "    def __len__(self):\n",
    "\t    return len(self.input_img_paths) // self.batch_size\n",
    "\n",
    "    def __getitem__(self, idx):\n",
    "        \n",
    "        \"\"\"Returns tuple (input, target) correspond to batch #idx.\"\"\"\n",
    "        i = idx * self.batch_size\n",
    "        batch_img_paths = self.input_img_paths[i : i + self.batch_size] #for a given index get the input batch pathways (x)\n",
    "        batch_target_img_paths = self.target_img_paths[i : i + self.batch_size] #for a given index get the input batch pathways (y)\n",
    "\t\t\n",
    "        x = np.zeros((self.batch_size,) + self.img_size, dtype=\"float32\") #create matrix of zeros which will have the dimension (batch_size, height, wideth, n_bands), 8 is the n_bands\n",
    "        \n",
    "  \n",
    "        #start populating x by enumerating over the input img paths\n",
    "        for j, path in enumerate(batch_img_paths):\n",
    "\n",
    "            #load image\n",
    "            img =  np.round(np.load(path), 3)[:, :, 6]\n",
    "\n",
    "            # img = img * 1000\n",
    "            img = img.astype(float)\n",
    "            img = np.round(img, 3)\n",
    "            img[img == 0] = -999\n",
    "\n",
    "            img[np.isnan(img)] = -999\n",
    "\n",
    "\n",
    "            img[img == -999] = np.nan\n",
    "\n",
    "            in_shape = img.shape\n",
    "\n",
    "            #turn to dataframe to normalize\n",
    "            img = img.reshape(img.shape[0] * img.shape[1])\n",
    "\n",
    "            img = pd.DataFrame(img)\n",
    "\n",
    "            img.columns = min_max.columns\n",
    "\n",
    "            img = pd.concat([min_max, img]).reset_index(drop = True)\n",
    "\n",
    "\n",
    "            #normalize 0 to 1\n",
    "            img = pd.DataFrame(scaler.fit_transform(img))\n",
    "\n",
    "            img = img.iloc[2:]\n",
    "#\n",
    "#             img = img.values.reshape(in_shape)\n",
    "            img = img.values.reshape(in_shape)\n",
    "\n",
    "#             replace nan with -1\n",
    "            img[np.isnan(img)] = -1\n",
    "\n",
    "#apply standardization\n",
    "# img = normalize(img, axis=(0,1))\n",
    "\n",
    "            img = np.round(img, 3)\n",
    "            #populate x\n",
    "            x[j] = img#[:, :, 4:] index number is not included, \n",
    "\n",
    "\n",
    "        #do tthe same thing for y\n",
    "        y = np.zeros((self.batch_size,) + self.img_size, dtype=\"uint8\")\n",
    "\n",
    "        for j, path in enumerate(batch_target_img_paths):\n",
    "\n",
    "            #load image\n",
    "            img =  np.round(np.load(path), 3)[:, :, -1]\n",
    "\n",
    "            img = img.astype(int)\n",
    "\n",
    "            img[img < 0] = 0\n",
    "            img[img >1] = 0\n",
    "            img[~np.isin(img, [0,1])] = 0\n",
    "\n",
    "            img[np.isnan(img)] = 0\n",
    "            img = img.astype(int)\n",
    "\n",
    "            # img =  tf.keras.utils.to_categorical(img, num_classes = 2)\n",
    "            # y[j] = np.expand_dims(img, 2) \n",
    "            y[j] = img\n",
    "  \n",
    "       \n",
    "    #Ground truth labels are 1, 2, 3. Subtract one to make them 0, 1, 2:\n",
    "    # y[j] -= 1\n",
    "\n",
    "        return x, y"
   ]
  },
  {
   "cell_type": "markdown",
   "metadata": {},
   "source": [
    "Image generator for 3 bands"
   ]
  },
  {
   "cell_type": "code",
   "execution_count": 4,
   "metadata": {},
   "outputs": [],
   "source": [
    "min_max_vi = pd.read_csv(\"/explore/nobackup/people/spotter5/cnn_mapping/nbac_training/l8_sent_collection2_global_min_max_cutoff_proj.csv\").reset_index(drop = True)\n",
    "min_max_vi = min_max_vi[['6', '7', '8']]\n",
    "\n",
    "class img_gen_vi(tensorflow.keras.utils.Sequence):\n",
    "\n",
    "    \"\"\"Helper to iterate over the data (as Numpy arrays).\n",
    "    Inputs are batch size, the image size, the input paths (x) and target paths (y)\n",
    "    \"\"\"\n",
    "\n",
    "    #will need pre defined variables batch_size, img_size, input_img_paths and target_img_paths\n",
    "    def __init__(self, batch_size, img_size, input_img_paths):\n",
    "\t    self.batch_size = batch_size\n",
    "\t    self.img_size = img_size\n",
    "\t    self.input_img_paths = input_img_paths\n",
    "\t    self.target_img_paths = input_img_paths\n",
    "\n",
    "    #number of batches the generator is supposed to produceis the length of the paths divided by the batch siize\n",
    "    def __len__(self):\n",
    "\t    return len(self.input_img_paths) // self.batch_size\n",
    "\n",
    "    def __getitem__(self, idx):\n",
    "        \n",
    "        \"\"\"Returns tuple (input, target) correspond to batch #idx.\"\"\"\n",
    "        i = idx * self.batch_size\n",
    "        batch_img_paths = self.input_img_paths[i : i + self.batch_size] #for a given index get the input batch pathways (x)\n",
    "        batch_target_img_paths = self.target_img_paths[i : i + self.batch_size] #for a given index get the input batch pathways (y)\n",
    "\t\t\n",
    "        x = np.zeros((self.batch_size,) + self.img_size + (3,), dtype=\"float32\") #create matrix of zeros which will have the dimension height, wideth, n_bands), 8 is the n_bands\n",
    "        \n",
    "  \n",
    "         #start populating x by enumerating over the input img paths\n",
    "        for j, path in enumerate(batch_img_paths):\n",
    "\n",
    "            #load image\n",
    "            img =  np.round(np.load(path), 3)[:, :, 6:9]\n",
    "\n",
    "            # img = img * 1000\n",
    "            img = img.astype(float)\n",
    "            img = np.round(img, 3)\n",
    "            img[img == 0] = -999\n",
    "\n",
    "            img[np.isnan(img)] = -999\n",
    "\n",
    "\n",
    "            img[img == -999] = np.nan\n",
    "\n",
    "            in_shape = img.shape\n",
    "            \n",
    "            #turn to dataframe to normalize\n",
    "            img = img.reshape(img.shape[0] * img.shape[1], img.shape[2])\n",
    "\t\t\t\n",
    "            img = pd.DataFrame(img)\n",
    "\t\t\t\n",
    "            img.columns = min_max_vi.columns\n",
    "\t\t\t\n",
    "            img = pd.concat([min_max_vi, img]).reset_index(drop = True)\n",
    "\n",
    "\n",
    "            #normalize 0 to 1\n",
    "            img = pd.DataFrame(scaler.fit_transform(img))\n",
    "\t\t\t\n",
    "            img = img.iloc[2:]\n",
    "#\n",
    "#             img = img.values.reshape(in_shape)\n",
    "            img = img.values.reshape(in_shape)\n",
    "\n",
    "#             replace nan with -1\n",
    "            img[np.isnan(img)] = -1\n",
    "\n",
    "#apply standardization\n",
    "# img = normalize(img, axis=(0,1))\n",
    "\n",
    "            img = np.round(img, 3)\n",
    "            #populate x\n",
    "            x[j] = img#[:, :, 4:] index number is not included, \n",
    "\n",
    "\n",
    "        #do tthe same thing for y\n",
    "        y = np.zeros((self.batch_size,) + self.img_size, dtype=\"uint8\")\n",
    "\n",
    "        for j, path in enumerate(batch_target_img_paths):\n",
    "\n",
    "            #load image\n",
    "            img =  np.round(np.load(path), 3)[:, :, -1]\n",
    "\n",
    "            img = img.astype(int)\n",
    "\n",
    "            img[img < 0] = 0\n",
    "            img[img >1] = 0\n",
    "            img[~np.isin(img, [0,1])] = 0\n",
    "\n",
    "            img[np.isnan(img)] = 0\n",
    "            img = img.astype(int)\n",
    "\n",
    "            # img =  tf.keras.utils.to_categorical(img, num_classes = 2)\n",
    "            # y[j] = np.expand_dims(img, 2) \n",
    "            y[j] = img\n",
    "  \n",
    "       \n",
    "    #Ground truth labels are 1, 2, 3. Subtract one to make them 0, 1, 2:\n",
    "    # y[j] -= 1\n",
    "\n",
    "        return x, y\n"
   ]
  },
  {
   "cell_type": "markdown",
   "metadata": {},
   "source": [
    "Read in the images based on the generator"
   ]
  },
  {
   "cell_type": "code",
   "execution_count": 5,
   "metadata": {},
   "outputs": [
    {
     "name": "stdout",
     "output_type": "stream",
     "text": [
      "Number of devices: 4\n"
     ]
    }
   ],
   "source": [
    "#batch size and img size\n",
    "BATCH_SIZE = 15\n",
    "GPUS = [\"GPU:0\", \"GPU:1\", \"GPU:2\", \"GPU:3\"]\n",
    "strategy = tensorflow.distribute.MirroredStrategy() #can add GPUS here to select specific ones\n",
    "print('Number of devices: %d' % strategy.num_replicas_in_sync) \n",
    "\n",
    "batch_size = BATCH_SIZE * strategy.num_replicas_in_sync\n",
    "\n",
    "#image size\n",
    "img_size = (128, 128)\n",
    "\n",
    "#number of classes to predict\n",
    "num_classes = 1\n",
    "\n",
    "#nbac testing dnbr\n",
    "models_dnbr_gen =  img_gen(batch_size, img_size, model_test)\n",
    "models_vi_gen =  img_gen_vi(batch_size, img_size, model_test)\n",
    "\n",
    "#mtbs\n",
    "mtbs_dnbr_gen =  img_gen(batch_size, img_size, mtbs)\n",
    "mtbs_vi_gen =  img_gen_vi(batch_size, img_size, mtbs)\n",
    "\n"
   ]
  },
  {
   "cell_type": "markdown",
   "metadata": {},
   "source": [
    "Read in all the models"
   ]
  },
  {
   "cell_type": "code",
   "execution_count": 6,
   "metadata": {},
   "outputs": [],
   "source": [
    "# #-------landsat 8\n",
    "# model_1 = tensorflow.keras.models.load_model(\"/explore/nobackup/people/spotter5/cnn_mapping/nbac_training/models/l8_collection2_dnbr_one_128_2d_ds_proj_gids.tf\", \n",
    "#                                            custom_objects={'precision':sm.metrics.Precision(threshold=0.5), \n",
    "#                                                            'recall':sm.metrics.Recall(threshold = 0.5),\n",
    "#                                                             'f1-score': sm.metrics.FScore(threshold=0.5),\n",
    "#                                                              'iou_score': sm.metrics.IOUScore(threshold=0.5),\n",
    "#                                                               'accuracy': 'accuracy'})\n",
    "\n",
    "# model_2 = tensorflow.keras.models.load_model(\"/explore/nobackup/people/spotter5/cnn_mapping/nbac_training/models/l8_collection2_VI_one_128_2d_ds_proj_final_gids.tf\", \n",
    "#                                            custom_objects={'precision':sm.metrics.Precision(threshold=0.5), \n",
    "#                                                            'recall':sm.metrics.Recall(threshold = 0.5),\n",
    "#                                                             'f1-score': sm.metrics.FScore(threshold=0.5),\n",
    "#                                                              'iou_score': sm.metrics.IOUScore(threshold=0.5)})\n",
    "\n",
    "# model_3 = tensorflow.keras.models.load_model(\"/explore/nobackup/people/spotter5/cnn_mapping/nbac_training/models/l8_collection2_dnbr_one_128_2d_ds_proj_mtbs_gids.tf\", \n",
    "#                                            custom_objects={'precision':sm.metrics.Precision(threshold=0.5), \n",
    "#                                                            'recall':sm.metrics.Recall(threshold = 0.5),\n",
    "#                                                             'f1-score': sm.metrics.FScore(threshold=0.5),\n",
    "#                                                              'iou_score': sm.metrics.IOUScore(threshold=0.5)})\n",
    "\n",
    "model_4 = tensorflow.keras.models.load_model(\"/explore/nobackup/people/spotter5/cnn_mapping/nbac_training/models/l8_collection2_VI_one_128_2d_ds_proj_final_mtbs_gids.tf\", \n",
    "                                           custom_objects={'precision':sm.metrics.Precision(threshold=0.5), \n",
    "                                                           'recall':sm.metrics.Recall(threshold = 0.5),\n",
    "                                                            'f1-score': sm.metrics.FScore(threshold=0.5),\n",
    "                                                             'iou_score': sm.metrics.IOUScore(threshold=0.5)})\n",
    "\n",
    "\n"
   ]
  },
  {
   "cell_type": "markdown",
   "metadata": {},
   "source": [
    "Model 1 testing scores"
   ]
  },
  {
   "cell_type": "code",
   "execution_count": 7,
   "metadata": {},
   "outputs": [
    {
     "name": "stderr",
     "output_type": "stream",
     "text": [
      "/tmp/ipykernel_762106/3175516196.py:1: UserWarning: `Model.evaluate_generator` is deprecated and will be removed in a future version. Please use `Model.evaluate`, which supports generators.\n",
      "  model_1_res = model_1.evaluate_generator(mtbs_dnbr_gen, 100)\n"
     ]
    },
    {
     "name": "stdout",
     "output_type": "stream",
     "text": [
      "Model 1 testing IoU is 0.790679931640625\n",
      "Model 1 testing precision is 0.9726361036300659\n",
      "Model 1 testing recall is 0.8082199096679688\n",
      "Model 1 testing f1 is 0.8809217810630798\n",
      "Model 1 testing accuracy is 0.963837742805481\n"
     ]
    }
   ],
   "source": [
    "model_1_res = model_1.evaluate_generator(mtbs_dnbr_gen, 100)\n",
    "\n",
    "iou = model_1_res[-2]\n",
    "precision = model_1_res[-5]\n",
    "recall = model_1_res[-4]\n",
    "f1 = model_1_res[-3]\n",
    "accuracy = model_1_res[-1]\n",
    "\n",
    "print(f\"Model 1 testing IoU is {iou}\")\n",
    "print(f\"Model 1 testing precision is {precision}\")\n",
    "print(f\"Model 1 testing recall is {recall}\")\n",
    "print(f\"Model 1 testing f1 is {f1}\")\n",
    "print(f\"Model 1 testing accuracy is {accuracy}\")\n"
   ]
  },
  {
   "cell_type": "markdown",
   "metadata": {},
   "source": [
    "Model 2 testing scores"
   ]
  },
  {
   "cell_type": "code",
   "execution_count": 11,
   "metadata": {},
   "outputs": [
    {
     "name": "stderr",
     "output_type": "stream",
     "text": [
      "/tmp/ipykernel_762106/455516871.py:1: UserWarning: `Model.evaluate_generator` is deprecated and will be removed in a future version. Please use `Model.evaluate`, which supports generators.\n",
      "  model_2_res = model_2.evaluate_generator(mtbs_vi_gen, 100)\n"
     ]
    },
    {
     "name": "stdout",
     "output_type": "stream",
     "text": [
      "Model 2 testing IoU is 0.8228231072425842\n",
      "Model 2 testing precision is 0.9722893238067627\n",
      "Model 2 testing recall is 0.8424709439277649\n",
      "Model 2 testing f1 is 0.9010870456695557\n",
      "Model 2 testing accuracy is 0.9692376255989075\n"
     ]
    }
   ],
   "source": [
    "model_2_res = model_2.evaluate_generator(mtbs_vi_gen, 100)\n",
    "\n",
    "iou = model_2_res[-2]\n",
    "precision = model_2_res[-5]\n",
    "recall = model_2_res[-4]\n",
    "f1 = model_2_res[-3]\n",
    "accuracy = model_2_res[-1]\n",
    "\n",
    "print(f\"Model 2 testing IoU is {iou}\")\n",
    "print(f\"Model 2 testing precision is {precision}\")\n",
    "print(f\"Model 2 testing recall is {recall}\")\n",
    "print(f\"Model 2 testing f1 is {f1}\")\n",
    "print(f\"Model 2 testing accuracy is {accuracy}\")"
   ]
  },
  {
   "cell_type": "markdown",
   "metadata": {},
   "source": [
    "Model 3 testing scores"
   ]
  },
  {
   "cell_type": "code",
   "execution_count": 9,
   "metadata": {},
   "outputs": [
    {
     "name": "stderr",
     "output_type": "stream",
     "text": [
      "/tmp/ipykernel_762106/1577085814.py:1: UserWarning: `Model.evaluate_generator` is deprecated and will be removed in a future version. Please use `Model.evaluate`, which supports generators.\n",
      "  model_3_res = model_3.evaluate_generator(models_dnbr_gen, 100)\n"
     ]
    },
    {
     "name": "stdout",
     "output_type": "stream",
     "text": [
      "Model 2 testing IoU is 0.865113377571106\n",
      "Model 2 testing precision is 0.920407235622406\n",
      "Model 2 testing recall is 0.9351356029510498\n",
      "Model 2 testing f1 is 0.9272314310073853\n",
      "Model 2 testing accuracy is 0.9808530211448669\n"
     ]
    }
   ],
   "source": [
    "model_3_res = model_3.evaluate_generator(models_dnbr_gen, 100)\n",
    "\n",
    "iou = model_3_res[-2]\n",
    "precision = model_3_res[-5]\n",
    "recall = model_3_res[-4]\n",
    "f1 = model_3_res[-3]\n",
    "accuracy = model_3_res[-1]\n",
    "\n",
    "print(f\"Model 2 testing IoU is {iou}\")\n",
    "print(f\"Model 2 testing precision is {precision}\")\n",
    "print(f\"Model 2 testing recall is {recall}\")\n",
    "print(f\"Model 2 testing f1 is {f1}\")\n",
    "print(f\"Model 2 testing accuracy is {accuracy}\")"
   ]
  },
  {
   "cell_type": "markdown",
   "metadata": {},
   "source": [
    "Model 4 testing scores"
   ]
  },
  {
   "cell_type": "code",
   "execution_count": 7,
   "metadata": {},
   "outputs": [
    {
     "name": "stderr",
     "output_type": "stream",
     "text": [
      "/tmp/ipykernel_882445/111447473.py:1: UserWarning: `Model.evaluate_generator` is deprecated and will be removed in a future version. Please use `Model.evaluate`, which supports generators.\n",
      "  model_4_res = model_4.evaluate_generator(models_vi_gen, 100)\n"
     ]
    },
    {
     "name": "stdout",
     "output_type": "stream",
     "text": [
      "Model 2 testing IoU is 0.8775147795677185\n",
      "Model 2 testing precision is 0.938153088092804\n",
      "Model 2 testing recall is 0.931460440158844\n",
      "Model 2 testing f1 is 0.934390127658844\n",
      "Model 2 testing accuracy is 0.9827530384063721\n"
     ]
    }
   ],
   "source": [
    "model_4_res = model_4.evaluate_generator(models_vi_gen, 100)\n",
    "\n",
    "iou = model_4_res[-2]\n",
    "precision = model_4_res[-5]\n",
    "recall = model_4_res[-4]\n",
    "f1 = model_4_res[-3]\n",
    "accuracy = model_4_res[-1]\n",
    "\n",
    "print(f\"Model 2 testing IoU is {iou}\")\n",
    "print(f\"Model 2 testing precision is {precision}\")\n",
    "print(f\"Model 2 testing recall is {recall}\")\n",
    "print(f\"Model 2 testing f1 is {f1}\")\n",
    "print(f\"Model 2 testing accuracy is {accuracy}\")"
   ]
  },
  {
   "cell_type": "code",
   "execution_count": 3,
   "metadata": {},
   "outputs": [
    {
     "data": {
      "image/png": "[encoded data removed]",
      "text/plain": [
       "<Figure size 1500x1000 with 2 Axes>"
      ]
     },
     "metadata": {},
     "output_type": "display_data"
    }
   ],
   "source": [
    "import matplotlib\n",
    "import matplotlib.pyplot as plt\n",
    "import pandas as pd\n",
    "import os\n",
    "\n",
    "font = {'family' : 'normal',\n",
    "        'size'   : 28}\n",
    "\n",
    "# df = pd.read_csv(\"/explore/nobackup/people/spotter5/cnn_mapping/nbac_training/modis_dnbr_0_five_plus_128_2d_ds_aug.csv\")\n",
    "# df = pd.read_csv('/explore/nobackup/people/spotter5/cnn_mapping/nbac_training/l8_collection2_dnbr_one_128_2d_ds_proj.csv')\n",
    "\n",
    "# df = pd.read_csv('/explore/nobackup/people/spotter5/cnn_mapping/nbac_training/l8_collection2_dnbr_one_128_2d_ds_proj_final.csv')\n",
    "\n",
    "#good models\n",
    "df = pd.read_csv('/explore/nobackup/people/spotter5/cnn_mapping/nbac_training/l8_collection2_VI_one_128_2d_ds_proj_final_mtbs.csv').head(48)\n",
    "# df = pd.read_csv('/explore/nobackup/people/spotter5/cnn_mapping/nbac_training/l8_collection2_dnbr_one_128_2d_ds_proj_final.csv')\n",
    "# df = pd.read_csv('/explore/nobackup/people/spotter5/cnn_mapping/nbac_training/l8_collection2_dnbr_one_128_2d_ds_proj_mtbs.csv')\n",
    "# df = pd.read_csv('/explore/nobackup/people/spotter5/cnn_mapping/nbac_training/l8_collection2_VI_one_128_2d_ds_proj_final.csv')\n",
    "df = pd.read_csv('/explore/nobackup/people/spotter5/cnn_mapping/nbac_training/nbac_mtbs_swin_no_reg_glob_norm.csv')\n",
    "df = pd.read_csv('/explore/nobackup/people/spotter5/cnn_mapping/nbac_training/nbac_mtbs_no_regularize_50_global_norm.csv')\n",
    "# df = pd.read_csv('/explore/nobackup/people/spotter5/cnn_mapping/nbac_training/nbac_mtbs_regularize_50_global_norm.csv')\n",
    "# df = pd.read_csv('/explore/nobackup/people/spotter5/cnn_mapping/nbac_training/nbac_mtbs_regularize_50_global_norm_85.csv')\n",
    "\n",
    "\n",
    "df['Moving Average'] = df['Val_IOU'].rolling(5).mean()\n",
    "df['Moving Average2'] = df['Val_Loss'].rolling(5).mean()\n",
    "\n",
    "#good models\n",
    "\n",
    "# df = pd.read_csv('/explore/nobackup/people/spotter5/cnn_mapping/nbac_training/l8_sent_collection2_global_min_max_cutoff_proj_mtbs.csv')\n",
    "# df = pd.read_csv('/explore/nobackup/people/spotter5/cnn_mapping/nbac_training/l8_collection2_dnbr_one_128_2d_ds_long_neg.csv')\n",
    "#l8_sent_collection2_crop_dnbr_0_two_long_128.csv\n",
    "#l8_sent_collection2_crop_dnbr_0_two_long_128_neg_aug.csv\n",
    "matplotlib.rc('font', **font)\n",
    "\n",
    "#plot the curves\n",
    "plt.figure(figsize=(15, 10))\n",
    "plt.subplot(221)\n",
    "plt.plot(df['IOU'])\n",
    "plt.plot(df['Val_IOU'])\n",
    "plt.plot(df['Moving Average'])\n",
    "\n",
    "# plt.title(\"Model IoU\")\n",
    "plt.ylabel('IOU')\n",
    "plt.xlabel('Epoch')\n",
    "# plt.ylim(0, 1)\n",
    "# plt.xlim(40,70)\n",
    "plt.legend(['Training', 'Validation', 'Validation Moving Average'], loc='lower right', prop={'size': 17})\n",
    "\n",
    "\n",
    "# Plot training & validation loss values\n",
    "plt.subplot(222)\n",
    "plt.plot(df['Loss'])\n",
    "plt.plot(df['Val_Loss'])\n",
    "plt.plot(df['Moving Average2'])\n",
    "\n",
    "# plt.title('Model loss')\n",
    "plt.ylabel('Loss')\n",
    "plt.xlabel('Epoch')\n",
    "# plt.ylim(0, 1)\n",
    "# plt.legend(['Train', 'Test'], loc='upper left')\n",
    "# plt.text(0.01, 0.00, 'Epoch', ha='center')\n",
    "\n",
    "\n",
    "# plt.subplot(223)\n",
    "# plt.plot(df['F1'])\n",
    "# plt.plot(df['Val_F1'])\n",
    "# plt.title('Model F1')\n",
    "# plt.ylabel('F1')\n",
    "# plt.xlabel('Epoch')\n",
    "# plt.ylim(0, 1)\n",
    "plt.tight_layout()\n",
    "\n",
    "out_path = \"/explore/nobackup/people/spotter5/cnn_mapping/nbac_training/figures\"\n",
    "if not os.path.isdir(out_path):\n",
    "    os.makedirs(out_path)\n",
    "\n",
    "plt.savefig(os.path.join(out_path, 'mtbs_nbac_VI_curve_adaptive.png'), dpi = 200, bbox_inches = 'tight') #17 epochs\n",
    "\n",
    "# plt.legend(['Train', 'Test'], loc='upper left')\n",
    "plt.show()\n",
    "\n",
    "\n",
    "\n",
    "# plt.subplot(122)\n",
    "# plt.plot(df['Loss'])\n",
    "# plt.plot(df['Val_Loss'])\n",
    "# plt.title('Model loss')\n",
    "# plt.ylabel('Loss')\n",
    "# plt.xlabel('Epoch')\n",
    "# plt.ylim(0, 1)\n",
    "# plt.legend(['Train', 'Test'], loc='upper left')\n",
    "# plt.show()"
   ]
  },
  {
   "cell_type": "code",
   "execution_count": 6,
   "metadata": {},
   "outputs": [
    {
     "data": {
      "text/plain": [
       "20"
      ]
     },
     "execution_count": 6,
     "metadata": {},
     "output_type": "execute_result"
    }
   ],
   "source": [
    "df['Val_IOU'].idxmax()"
   ]
  },
  {
   "cell_type": "markdown",
   "metadata": {},
   "source": [
    "Make final table with all the metrics, note here we will use the best IoU for all four models than get the other stats"
   ]
  },
  {
   "cell_type": "code",
   "execution_count": 52,
   "metadata": {},
   "outputs": [
    {
     "name": "stdout",
     "output_type": "stream",
     "text": [
      "     Val_IOU  Val_Precision  Val_Recall   Val_F1  Val_Accuracy\n",
      "49  0.854954       0.914487    0.930018  0.91691      0.980829\n"
     ]
    }
   ],
   "source": [
    "#model 1\n",
    "mod1 = pd.read_csv('/explore/nobackup/people/spotter5/cnn_mapping/nbac_training/l8_collection2_dnbr_one_128_2d_ds_proj_final.csv')\n",
    "mod2 = pd.read_csv('/explore/nobackup/people/spotter5/cnn_mapping/nbac_training/l8_collection2_VI_one_128_2d_ds_proj_final.csv')\n",
    "mod3 = pd.read_csv('/explore/nobackup/people/spotter5/cnn_mapping/nbac_training/l8_collection2_dnbr_one_128_2d_ds_proj_mtbs.csv')\n",
    "mod4 = pd.read_csv('/explore/nobackup/people/spotter5/cnn_mapping/nbac_training/l8_collection2_VI_one_128_2d_ds_proj_final_mtbs.csv')\n",
    "\n",
    "t = mod4[mod4['Val_IOU'] == mod4['Val_IOU'].max()][['Val_IOU', 'Val_Precision', 'Val_Recall', 'Val_F1', 'Val_Accuracy']]\n",
    "print(t)\n"
   ]
  },
  {
   "cell_type": "code",
   "execution_count": 66,
   "metadata": {},
   "outputs": [
    {
     "name": "stdout",
     "output_type": "stream",
     "text": [
      "(1, 13)\n"
     ]
    }
   ],
   "source": [
    "t2 = mod4[mod4['Val_IOU'] == mod4['Val_IOU'].max()]\n",
    "print(t2.shape)\n"
   ]
  },
  {
   "cell_type": "code",
   "execution_count": 86,
   "metadata": {},
   "outputs": [
    {
     "data": {
      "text/plain": [
       "19"
      ]
     },
     "execution_count": 86,
     "metadata": {},
     "output_type": "execute_result"
    }
   ],
   "source": [
    "len(model1_dnbr_res)"
   ]
  },
  {
   "cell_type": "code",
   "execution_count": 83,
   "metadata": {},
   "outputs": [
    {
     "data": {
      "text/plain": [
       "keras.callbacks.History"
      ]
     },
     "execution_count": 83,
     "metadata": {},
     "output_type": "execute_result"
    }
   ],
   "source": [
    "model_1.history"
   ]
  },
  {
   "cell_type": "code",
   "execution_count": 7,
   "metadata": {},
   "outputs": [],
   "source": [
    "%load_ext tensorboard"
   ]
  },
  {
   "cell_type": "code",
   "execution_count": 8,
   "metadata": {},
   "outputs": [
    {
     "data": {
      "text/html": [
       "\n",
       "      <iframe id=\"tensorboard-frame-2fd13f49c57c3413\" width=\"100%\" height=\"800\" frameborder=\"0\">\n",
       "      </iframe>\n",
       "      <script>\n",
       "        (function() {\n",
       "          const frame = document.getElementById(\"tensorboard-frame-2fd13f49c57c3413\");\n",
       "          const url = new URL(\"/\", window.location);\n",
       "          const port = 6006;\n",
       "          if (port) {\n",
       "            url.port = port;\n",
       "          }\n",
       "          frame.src = url;\n",
       "        })();\n",
       "      </script>\n",
       "    "
      ],
      "text/plain": [
       "<IPython.core.display.HTML object>"
      ]
     },
     "metadata": {},
     "output_type": "display_data"
    }
   ],
   "source": [
    "%tensorboard --logdir \"/explore/nobackup/people/spotter5/cnn_mapping/nbac_training/models/nbac_mtbs_no_regularize_50_global_norm_3p\""
   ]
  },
  {
   "cell_type": "code",
   "execution_count": null,
   "metadata": {},
   "outputs": [],
   "source": []
  }
 ],
 "metadata": {
  "kernelspec": {
   "display_name": "Python [conda env:.conda-deeplearning3]",
   "language": "python",
   "name": "conda-env-.conda-deeplearning3-py"
  },
  "language_info": {
   "codemirror_mode": {
    "name": "ipython",
    "version": 3
   },
   "file_extension": ".py",
   "mimetype": "text/x-python",
   "name": "python",
   "nbconvert_exporter": "python",
   "pygments_lexer": "ipython3",
   "version": "3.10.8"
  }
 },
 "nbformat": 4,
 "nbformat_minor": 4
}
