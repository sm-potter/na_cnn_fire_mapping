{
 "cells": [
  {
   "cell_type": "markdown",
   "id": "7ab7ed55-becc-4709-8600-cc65fead86ee",
   "metadata": {},
   "source": [
    "This script will make it so all images are normalized the same by taking the global min and max per band and applying it to each image.  Essentially I need to find across all training data and training bands what is the minimum and maximum values so all images are normalized the same.  I do this to avoid tiling appearences when deploying the model "
   ]
  },
  {
   "cell_type": "code",
   "execution_count": 7,
   "id": "75aac32c-c9f5-40ee-9492-87f348991567",
   "metadata": {},
   "outputs": [],
   "source": [
    "import pandas as pd\n",
    "import numpy as np\n",
    "import os"
   ]
  },
  {
   "cell_type": "markdown",
   "id": "000ece67-14d7-4e1e-b84b-c9428ef63180",
   "metadata": {},
   "source": [
    "Function to get the the min-max globally but use the 5 and 95% cutoffs, I am not using this right now. "
   ]
  },
  {
   "cell_type": "code",
   "execution_count": null,
   "id": "2cd494c1-4569-4f7e-b48a-3d01855109cd",
   "metadata": {},
   "outputs": [],
   "source": [
    "def minMax(x):\n",
    "    return pd.Series(index=['min','max'],data=[x.percentile(5),x.percentile(95)])\n"
   ]
  },
  {
   "cell_type": "markdown",
   "id": "b7785f6a-b25c-46ca-99c8-6408343bda9e",
   "metadata": {},
   "source": [
    "Apply the minMax function by looping through all data.  Note we have so much data I sample only 30% of it per image. "
   ]
  },
  {
   "cell_type": "code",
   "execution_count": 8,
   "id": "4aedbfa4-adc6-479e-9c85-b090da6b0cc6",
   "metadata": {},
   "outputs": [
    {
     "data": {
      "text/plain": [
       "()"
      ]
     },
     "execution_count": 8,
     "metadata": {},
     "output_type": "execute_result"
    }
   ],
   "source": [
    "##path to training, validation and testing\n",
    "train_files = pd.read_csv('/explore/nobackup/people/spotter5/cnn_mapping/nbac_training/l8_sent_collection2_proj_pos_0_128_training_files.csv')['Files'].tolist()\n",
    "val_files = pd.read_csv('/explore/nobackup/people/spotter5/cnn_mapping/nbac_training/l8_sent_collection2_proj_pos_0_128_validation_files.csv')['Files'].tolist()\n",
    "test_files = pd.read_csv('/explore/nobackup/people/spotter5/cnn_mapping/nbac_training/l8_sent_collection2_proj_pos_0_128_testing_files.csv')['Files'].tolist()\n",
    "\n",
    "\n",
    "\n",
    "final = []\n",
    "\n",
    "\n",
    "def get_min_max(pathways):\n",
    "    \n",
    "    \n",
    "    for f in pathways:\n",
    "\n",
    "        base = os.path.basename(f)\n",
    "        \n",
    "        try:\n",
    "            x = np.load(f)\n",
    "            x = x.astype(float)\n",
    "            x[x == 0] = np.nan\n",
    "            x[x == -999] = np.nan\n",
    "\n",
    "            #convert to dataframe\n",
    "            in_shape = x.shape\n",
    "\n",
    "            #turn to dataframe to normalize\n",
    "            x = x.reshape(x.shape[0] * x.shape[1], x.shape[2])\n",
    "\n",
    "            # x = pd.DataFrame(x).dropna().sample(frac = 0.7)\n",
    "\n",
    "            x = pd.DataFrame(x).dropna()\n",
    "            # min_max = x.apply(minMax)\n",
    "\n",
    "            final.append(x)\n",
    "        except:\n",
    "            \n",
    "            print(f\"{f} failed\")\n",
    "            \n",
    "            \n",
    "            os.remove(f)\n",
    "        \n",
    "    return()\n",
    "\n",
    "get_min_max(train_files)\n",
    "get_min_max(test_files)\n",
    "get_min_max(val_files)\n",
    "\n",
    "final4 = pd.concat(final).quantile([.01, .99])\n",
    "final4\n",
    "final4.reset_index().to_csv(\"/explore/nobackup/people/spotter5/cnn_mapping/nbac_training/l8_sent_collection2_global_min_max_cutoff_proj_pos.csv\", index = False)"
   ]
  }
 ],
 "metadata": {
  "kernelspec": {
   "display_name": "deeplearning3",
   "language": "python",
   "name": "deeplearning3"
  },
  "language_info": {
   "codemirror_mode": {
    "name": "ipython",
    "version": 3
   },
   "file_extension": ".py",
   "mimetype": "text/x-python",
   "name": "python",
   "nbconvert_exporter": "python",
   "pygments_lexer": "ipython3",
   "version": "3.10.8"
  }
 },
 "nbformat": 4,
 "nbformat_minor": 5
}
