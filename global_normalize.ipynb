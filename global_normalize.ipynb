{
 "cells": [
  {
   "cell_type": "markdown",
   "id": "7ab7ed55-becc-4709-8600-cc65fead86ee",
   "metadata": {},
   "source": [
    "This script will make it so all images are normalized the same by taking the global min and max per band and applying it to each image.  Essentially I need to find across all training data and training bands what is the minimum and maximum values so all images are normalized the same.  I do this to avoid tiling appearences when deploying the model "
   ]
  },
  {
   "cell_type": "code",
   "execution_count": 7,
   "id": "75aac32c-c9f5-40ee-9492-87f348991567",
   "metadata": {},
   "outputs": [],
   "source": [
    "import pandas as pd\n",
    "import numpy as np\n",
    "import os"
   ]
  },
  {
   "cell_type": "markdown",
   "id": "000ece67-14d7-4e1e-b84b-c9428ef63180",
   "metadata": {},
   "source": [
    "Function to get the the min-max globally but use the 5 and 95% cutoffs, I am not using this right now. "
   ]
  },
  {
   "cell_type": "code",
   "execution_count": null,
   "id": "2cd494c1-4569-4f7e-b48a-3d01855109cd",
   "metadata": {},
   "outputs": [],
   "source": [
    "def minMax(x):\n",
    "    return pd.Series(index=['min','max'],data=[x.percentile(5),x.percentile(95)])\n"
   ]
  },
  {
   "cell_type": "markdown",
   "id": "b7785f6a-b25c-46ca-99c8-6408343bda9e",
   "metadata": {},
   "source": [
    "Apply the minMax function by looping through all data.  Note we have so much data I sample only 30% of it per image. "
   ]
  },
  {
   "cell_type": "code",
   "execution_count": 8,
   "id": "4aedbfa4-adc6-479e-9c85-b090da6b0cc6",
   "metadata": {},
   "outputs": [
    {
     "data": {
      "text/plain": [
       "()"
      ]
     },
     "execution_count": 8,
     "metadata": {},
     "output_type": "execute_result"
    }
   ],
   "source": [
    "#path to training, validation and testing, note these paths can change\n",
    "train = get_files('/explore/nobackup/people/spotter5/cnn_mapping/nbac_training/l8_sent_collection2_0_training_data_512')\n",
    "test = get_files('/explore/nobackup/people/spotter5/cnn_mapping/nbac_training/l8_sent_collection2_0_testing_data_512')\n",
    "val = get_files('/explore/nobackup/people/spotter5/cnn_mapping/nbac_training/l8_sent_collection2_0_validation_data_512')\n",
    "\n",
    "\n",
    "final = []\n",
    "\n",
    "\n",
    "def get_min_max(pathways):\n",
    "    \n",
    "    \n",
    "    for f in pathways:\n",
    "\n",
    "        base = os.path.basename(f)\n",
    "\n",
    "        x = np.load(f)\n",
    "        x = x.astype(float)\n",
    "        x[x == 0] = np.nan\n",
    "        x[x == -999] = np.nan\n",
    "\n",
    "        #convert to dataframe\n",
    "        in_shape = x.shape\n",
    "\n",
    "        #turn to dataframe to normalize\n",
    "        x = x.reshape(x.shape[0] * x.shape[1], x.shape[2])\n",
    "    \n",
    "        #sample 30% per image\n",
    "        x = pd.DataFrame(x).dropna().sample(frac = 0.3)\n",
    "        final.append(x)\n",
    "        \n",
    "    return()\n",
    "\n",
    "get_min_max(train)\n",
    "get_min_max(test)\n",
    "get_min_max(val)"
   ]
  },
  {
   "cell_type": "code",
   "execution_count": 11,
   "id": "9e123308-0a15-46d6-b653-4d9c0c619339",
   "metadata": {},
   "outputs": [
    {
     "data": {
      "text/html": [
       "<div>\n",
       "<style scoped>\n",
       "    .dataframe tbody tr th:only-of-type {\n",
       "        vertical-align: middle;\n",
       "    }\n",
       "\n",
       "    .dataframe tbody tr th {\n",
       "        vertical-align: top;\n",
       "    }\n",
       "\n",
       "    .dataframe thead th {\n",
       "        text-align: right;\n",
       "    }\n",
       "</style>\n",
       "<table border=\"1\" class=\"dataframe\">\n",
       "  <thead>\n",
       "    <tr style=\"text-align: right;\">\n",
       "      <th></th>\n",
       "      <th>0</th>\n",
       "      <th>1</th>\n",
       "      <th>2</th>\n",
       "      <th>3</th>\n",
       "      <th>4</th>\n",
       "      <th>5</th>\n",
       "      <th>6</th>\n",
       "      <th>7</th>\n",
       "      <th>8</th>\n",
       "    </tr>\n",
       "  </thead>\n",
       "  <tbody>\n",
       "    <tr>\n",
       "      <th>0.01</th>\n",
       "      <td>-62.0</td>\n",
       "      <td>-58.0</td>\n",
       "      <td>-61.0</td>\n",
       "      <td>-93.0</td>\n",
       "      <td>-116.0</td>\n",
       "      <td>-125.0</td>\n",
       "      <td>-238.0</td>\n",
       "      <td>-238.0</td>\n",
       "      <td>-212.0</td>\n",
       "    </tr>\n",
       "    <tr>\n",
       "      <th>0.99</th>\n",
       "      <td>49.0</td>\n",
       "      <td>51.0</td>\n",
       "      <td>51.0</td>\n",
       "      <td>159.0</td>\n",
       "      <td>91.0</td>\n",
       "      <td>54.0</td>\n",
       "      <td>881.0</td>\n",
       "      <td>527.0</td>\n",
       "      <td>610.0</td>\n",
       "    </tr>\n",
       "  </tbody>\n",
       "</table>\n",
       "</div>"
      ],
      "text/plain": [
       "         0     1     2      3      4      5      6      7      8\n",
       "0.01 -62.0 -58.0 -61.0  -93.0 -116.0 -125.0 -238.0 -238.0 -212.0\n",
       "0.99  49.0  51.0  51.0  159.0   91.0   54.0  881.0  527.0  610.0"
      ]
     },
     "execution_count": 11,
     "metadata": {},
     "output_type": "execute_result"
    }
   ],
   "source": [
    "#concat the training, testing and validation and save to a file.  Using 0.01 and 0.99 cutoffs. \n",
    "final2 = pd.concat(final).quantile([.01, .99])\n",
    "final2\n",
    "final2.reset_index().to_csv(\"/explore/nobackup/people/spotter5/cnn_mapping/nbac_training/l8_sent_collection2_0_512_global_min_max_cutoff.csv\", index = False)"
   ]
  }
 ],
 "metadata": {
  "kernelspec": {
   "display_name": "deeplearning3",
   "language": "python",
   "name": "deeplearning3"
  },
  "language_info": {
   "codemirror_mode": {
    "name": "ipython",
    "version": 3
   },
   "file_extension": ".py",
   "mimetype": "text/x-python",
   "name": "python",
   "nbconvert_exporter": "python",
   "pygments_lexer": "ipython3",
   "version": "3.10.8"
  }
 },
 "nbformat": 4,
 "nbformat_minor": 5
}
