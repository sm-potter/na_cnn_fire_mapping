{
 "cells": [
  {
   "cell_type": "markdown",
   "id": "a342f167-9f91-42ad-b37f-4607c57746d1",
   "metadata": {},
   "source": [
    "This script will read in the nbac fire perimiters to 2022 and the MTBS fire perimiters to 2022, concat the 2023 data for both, and ensure the new ID's 'grow' on the previous ids so I don't overwite the previous ones.  For instance if in NBAC the last id is 100 in 2022, the first one in 2023 will be 101. "
   ]
  },
  {
   "cell_type": "code",
   "execution_count": 15,
   "id": "ef790a21-7856-46dd-b6e0-9e91f8ed0ec9",
   "metadata": {},
   "outputs": [],
   "source": [
    "import geopandas as gpd\n",
    "import os\n",
    "import pandas as pd\n",
    "#path to mtbs to 2020\n",
    "mtbs = gpd.read_file('/explore/nobackup/people/spotter5/cnn_mapping/raw_files/ak_1985.shp')\n",
    "mtbs['Year'] = mtbs['Year'].astype(int)\n",
    "mtbs['Month'] = mtbs['Month'].astype(int)\n",
    "\n",
    "#path to nbac to 2020\n",
    "nbac = gpd.read_file('/explore/nobackup/people/spotter5/cnn_mapping/raw_files/nbac_1985.shp')\n",
    "nbac['Year'] = nbac['Year'].astype(int)\n",
    "nbac['Month'] = nbac['Month'].astype(int)\n",
    "nbac['Day'] = nbac['Day'].astype(int)\n",
    "\n",
    "# path to mtbs to 2022, filter only 2021-2022, 2023 not available as of this writing\n",
    "mtbs2 = gpd.read_file('/explore/nobackup/people/spotter5/cnn_mapping/raw_files/mtbs_perimeter_data_2022/mtbs_perims_DD.shp').to_crs(mtbs.crs)\n",
    "mtbs2 = mtbs2[['Ig_Date', 'geometry']]\n",
    "mtbs2 = mtbs2.rename(columns = {'Ig_Date': 'Date'})\n",
    "\n",
    "# Step 1: Extract Year, Month, and Day from the 'date' column in gdf\n",
    "mtbs2['Year'] = pd.to_datetime(mtbs2['Date']).dt.year\n",
    "mtbs2['Month'] = pd.to_datetime(mtbs2['Date']).dt.month\n",
    "mtbs2['Day'] = pd.to_datetime(mtbs2['Date']).dt.day\n",
    "mtbs2 = mtbs2[mtbs2['Year'] > 2020]\n",
    "\n",
    "# Step 2: Generate new IDs in gdf starting from one larger than the maximum ID in mtbs\n",
    "max_id = mtbs['ID'].max()\n",
    "mtbs2['ID'] = range(max_id + 1, max_id + 1 + len(mtbs2))\n",
    "\n",
    "# Step 3: Select columns Year, Date, Month, Day, ID, and geometry from both gdf and mtbs\n",
    "mtbs2 = mtbs2[['Year', 'Date', 'Month', 'Day', 'ID', 'geometry']]\n",
    "\n",
    "\n",
    "\n",
    "# Step 4: Concatenate the two GeoDataFrames\n",
    "combined_gdf_mtbs = pd.concat([mtbs, mtbs2.to_crs(mtbs.crs)], ignore_index=True)\n",
    "\n",
    "# Ensure the result is still a GeoDataFrame\n",
    "combined_gdf_mtbs = gpd.GeoDataFrame(combined_gdf_mtbs, geometry='geometry')\n",
    "combined_gdf_mtbs.to_file('/explore/nobackup/people/spotter5/cnn_mapping/raw_files/mtbs_1984_2022.shp')\n",
    "\n",
    "#path to nbac to 2023, filter only 2021-2023\n",
    "nbac2 = gpd.read_file('/explore/nobackup/people/spotter5/cnn_mapping/raw_files/nbac_1972_2023_20240530_shp/nbac_1972_2023_20240530.shp')\n",
    "\n",
    "nbac2 = nbac2[['YEAR', 'HS_SDATE', 'geometry']]\n",
    "nbac2 = nbac2.rename(columns = {'YEAR': 'Year', 'HS_SDATE': 'Date'})\n",
    "\n",
    "# Step 1: Extract Year, Month, and Day from the 'date' column in gdf\n",
    "nbac2['Year'] = pd.to_datetime(nbac2['Date']).dt.year\n",
    "nbac2['Month'] = pd.to_datetime(nbac2['Date']).dt.month\n",
    "nbac2['Day'] = pd.to_datetime(nbac2['Date']).dt.day\n",
    "\n",
    "nbac2 = nbac2[nbac2['Year'] > 2020]\n",
    "\n",
    "# Step 2: Generate new IDs in gdf starting from one larger than the maximum ID in mtbs\n",
    "max_id = nbac['ID'].max()\n",
    "nbac2['ID'] = range(max_id + 1, max_id + 1 + len(nbac2))\n",
    "\n",
    "# Step 3: Select columns Year, Date, Month, Day, ID, and geometry from both gdf and mtbs\n",
    "nbac2 = nbac2[['Year', 'Date', 'Month', 'Day', 'ID', 'geometry']]\n",
    "\n",
    "# Step 4: Concatenate the two GeoDataFrames\n",
    "combined_gdf_nbac = pd.concat([nbac, nbac2.to_crs(nbac.crs)], ignore_index=True)\n",
    "\n",
    "# Ensure the result is still a GeoDataFrame\n",
    "combined_gdf_nbac = gpd.GeoDataFrame(combined_gdf_nbac, geometry='geometry')\n",
    "\n",
    "combined_gdf_nbac.to_file('/explore/nobackup/people/spotter5/cnn_mapping/raw_files/nbac_1986_2023.shp')\n",
    "\n"
   ]
  },
  {
   "cell_type": "code",
   "execution_count": 7,
   "id": "75963ce2-077b-4d53-86c3-990df7dae434",
   "metadata": {},
   "outputs": [
    {
     "data": {
      "text/plain": [
       "array([2022., 2021., 2023.])"
      ]
     },
     "execution_count": 7,
     "metadata": {},
     "output_type": "execute_result"
    }
   ],
   "source": [
    "nbac2['Year'].unique()"
   ]
  },
  {
   "cell_type": "code",
   "execution_count": 16,
   "id": "f99f03c9-bbba-4428-a6ca-5ccbea194233",
   "metadata": {},
   "outputs": [
    {
     "data": {
      "text/plain": [
       "(3604, 6)"
      ]
     },
     "execution_count": 16,
     "metadata": {},
     "output_type": "execute_result"
    }
   ],
   "source": [
    "combined_gdf_mtbs.shape"
   ]
  },
  {
   "cell_type": "code",
   "execution_count": 14,
   "id": "2616665d-29e9-4976-887d-c39b42a6fc79",
   "metadata": {},
   "outputs": [
    {
     "data": {
      "text/plain": [
       "array([2021, 2022], dtype=int32)"
      ]
     },
     "execution_count": 14,
     "metadata": {},
     "output_type": "execute_result"
    }
   ],
   "source": [
    "mtbs2['Year'].unique()"
   ]
  },
  {
   "cell_type": "code",
   "execution_count": 11,
   "id": "568d6cdd-c237-47bc-a57e-5b71eaad1bb5",
   "metadata": {},
   "outputs": [
    {
     "data": {
      "text/plain": [
       "array([2020, 2019, 2018, 2017, 2016, 2015, 2014, 2013, 2012, 2011, 2010,\n",
       "       2009, 2008, 2007, 2006, 2005, 2004, 2003, 2002, 2001, 2000, 1999,\n",
       "       1998, 1997, 1996, 1995, 1994, 1993, 1992, 1991, 1990, 1989, 1988,\n",
       "       1987, 1986, 1985])"
      ]
     },
     "execution_count": 11,
     "metadata": {},
     "output_type": "execute_result"
    }
   ],
   "source": [
    "mtbs['Year'].unique()"
   ]
  },
  {
   "cell_type": "code",
   "execution_count": null,
   "id": "7cf828c5-c8d8-4238-a81b-33dc8c01d60c",
   "metadata": {},
   "outputs": [],
   "source": []
  }
 ],
 "metadata": {
  "kernelspec": {
   "display_name": "Python [conda env:.conda-deeplearning3]",
   "language": "python",
   "name": "conda-env-.conda-deeplearning3-py"
  },
  "language_info": {
   "codemirror_mode": {
    "name": "ipython",
    "version": 3
   },
   "file_extension": ".py",
   "mimetype": "text/x-python",
   "name": "python",
   "nbconvert_exporter": "python",
   "pygments_lexer": "ipython3",
   "version": "3.10.11"
  }
 },
 "nbformat": 4,
 "nbformat_minor": 5
}
