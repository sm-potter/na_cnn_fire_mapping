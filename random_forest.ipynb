{
 "cells": [
  {
   "cell_type": "code",
   "execution_count": null,
   "id": "e31331ab-f384-4ade-a952-a4dae62a4d72",
   "metadata": {},
   "outputs": [],
   "source": [
    "import pandas as pd\n",
    "import numpy as np\n",
    "import os\n",
    "\n",
    "#outpath\n",
    "out = '/explore/nobackup/people/spotter5/cnn_mapping/nbac_training/random_forest'\n",
    "os.makedirs(out, exist_ok = True)\n",
    "\n",
    "#get all the pathways\n",
    "training_names = pd.read_csv('/explore/nobackup/people/spotter5/cnn_mapping/Russia/mtbs_training_files.csv')['Files'].tolist()\n",
    "validation_names = pd.read_csv('/explore/nobackup/people/spotter5/cnn_mapping/Russia/mtbs_validation_files.csv')['Files'].tolist()\n",
    "testing_names = pd.read_csv('/explore/nobackup/people/spotter5/cnn_mapping/Russia/mtbs_testing_files.csv')['Files'].tolist()\n",
    "\n",
    "training_names2 = pd.read_csv('/explore/nobackup/people/spotter5/cnn_mapping/Russia/nbac_training_files.csv')['Files'].tolist()\n",
    "validation_names2 = pd.read_csv('/explore/nobackup/people/spotter5/cnn_mapping/Russia/nbac_validation_files.csv')['Files'].tolist()\n",
    "testing_names2 = pd.read_csv('/explore/nobackup/people/spotter5/cnn_mapping/Russia/nbac_testing_files.csv')['Files'].tolist()\n",
    "\n",
    "#combine into 1\n",
    "pathways = training_names + validation_names + testing_names + training_names2 + validation_names2 + testing_names2\n",
    "\n",
    "\n",
    "# Define column names for the DataFrame\n",
    "column_names = ['red', 'green', 'blue', 'nir', 'swir1', 'swir2', 'dnbr', 'dndvi', 'dndii', 'y']\n",
    "\n",
    "# Initialize an empty DataFrame to store all flattened arrays\n",
    "df = pd.DataFrame(columns=column_names)\n",
    "\n",
    "# Load and process each numpy array from the file paths\n",
    "for path in pathways:\n",
    "    # Load the numpy array from the .npy file\n",
    "    img = np.load(path)\n",
    "\n",
    "    #load image for x variables\n",
    "    img =  np.round(np.load(path), 3)[:, :, :9]\n",
    "\n",
    "    img = img.astype(float)\n",
    "    img = np.round(img, 3)\n",
    "    img[img == 0] = np.nan\n",
    "\n",
    "     #load image for y \n",
    "    img2 =  np.round(np.load(path), 3)[:, :, -1]\n",
    "\n",
    "    img2 = img2.astype(int)\n",
    "\n",
    "    img2[img2 < 0] = 0\n",
    "    img2[img2 >1] = 0\n",
    "    \n",
    "    img2[~np.isin(img2, [0,1])] = 0\n",
    "\n",
    "    #combine \n",
    "    comb = np.dstack([img, img2])\n",
    "    \n",
    "    # Flatten the 128x128x10 array to a 16384x10 array\n",
    "    flattened_array = comb.reshape(-1, 10)\n",
    "    \n",
    "    # Create a temporary DataFrame from the flattened array\n",
    "    temp_df = pd.DataFrame(flattened_array, columns=column_names)\n",
    "        \n",
    "    # Append the temporary DataFrame to the main DataFrame\n",
    "    df = pd.concat([df, temp_df], ignore_index=True).dropna()\n",
    "\n",
    "#save to parquet\n",
    "df.to_parquet(os.path.join(out, 'all_training.parquet'), engine = 'pyarrow', index = False)"
   ]
  },
  {
   "cell_type": "code",
   "execution_count": null,
   "id": "09918bae-66d4-4eb5-a21f-e14ae3331376",
   "metadata": {},
   "outputs": [],
   "source": [
    "'t'"
   ]
  },
  {
   "cell_type": "code",
   "execution_count": null,
   "id": "13dfee6f-5d6c-476d-a189-07b587e8c2de",
   "metadata": {},
   "outputs": [],
   "source": []
  },
  {
   "cell_type": "code",
   "execution_count": null,
   "id": "b0f71daf-98a1-45fd-b3fa-63c9580843ae",
   "metadata": {},
   "outputs": [],
   "source": [
    "'t'"
   ]
  },
  {
   "cell_type": "code",
   "execution_count": null,
   "id": "8e9ec3f6-457c-4a0e-8079-081cdd035c44",
   "metadata": {},
   "outputs": [],
   "source": []
  }
 ],
 "metadata": {
  "kernelspec": {
   "display_name": "Python [conda env:.conda-deeplearning3]",
   "language": "python",
   "name": "conda-env-.conda-deeplearning3-py"
  },
  "language_info": {
   "codemirror_mode": {
    "name": "ipython",
    "version": 3
   },
   "file_extension": ".py",
   "mimetype": "text/x-python",
   "name": "python",
   "nbconvert_exporter": "python",
   "pygments_lexer": "ipython3",
   "version": "3.10.8"
  }
 },
 "nbformat": 4,
 "nbformat_minor": 5
}
