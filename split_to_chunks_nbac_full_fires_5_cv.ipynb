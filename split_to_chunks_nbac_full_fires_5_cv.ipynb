{
 "cells": [
  {
   "cell_type": "markdown",
   "id": "4e64633b-961c-46f4-ade9-24384ff8bb0e",
   "metadata": {},
   "source": [
    "Read in packages"
   ]
  },
  {
   "cell_type": "code",
   "execution_count": 22,
   "id": "00387a58-86f6-4282-bf6b-23d2bef9e01a",
   "metadata": {
    "tags": []
   },
   "outputs": [],
   "source": [
    "import pandas as pd\n",
    "import os\n",
    "import numpy as np\n",
    "import xarray as xr\n",
    "import rioxarray\n",
    "import glob\n",
    "import random\n",
    "import geopandas as gpd\n",
    "from sklearn.utils import shuffle\n",
    "from MightyMosaic import MightyMosaic\n",
    "from sklearn.model_selection import train_test_split\n",
    "from sklearn.model_selection import KFold\n"
   ]
  },
  {
   "cell_type": "code",
   "execution_count": 10,
   "id": "5a3c5e19-48eb-456d-b852-8e35935ee1c3",
   "metadata": {},
   "outputs": [
    {
     "name": "stdout",
     "output_type": "stream",
     "text": [
      "Fold 1: Train (8697, 2), Validation (1243, 2), Test (2485, 2)\n",
      "Fold 2: Train (8697, 2), Validation (1243, 2), Test (2485, 2)\n",
      "Fold 3: Train (8697, 2), Validation (1243, 2), Test (2485, 2)\n",
      "Fold 4: Train (8697, 2), Validation (1243, 2), Test (2485, 2)\n",
      "Fold 5: Train (8697, 2), Validation (1243, 2), Test (2485, 2)\n"
     ]
    }
   ],
   "source": [
    "# Load your data\n",
    "df = gpd.read_file('/explore/nobackup/people/spotter5/cnn_mapping/raw_files/nbac_1985.shp')\n",
    "df2 = gpd.read_file('/explore/nobackup/people/spotter5/cnn_mapping/raw_files/ak_mtbs_1985.shp').to_crs(df.crs)\n",
    "\n",
    "df['AOI'] = 'NBAC'\n",
    "df2['AOI'] = 'MTBS'\n",
    "\n",
    "\n",
    "df = pd.concat([df, df2], ignore_index = True)\n",
    "\n",
    "df = df[['AOI', 'ID']]\n",
    "# Initialize KFold\n",
    "kf = KFold(n_splits=5, shuffle=True, random_state=42)\n",
    "\n",
    "# Preparing indices for entire data shuffling\n",
    "df_shuffled = df.sample(frac=1, random_state=42).reset_index(drop=True)\n",
    "\n",
    "# Split data into 5 folds\n",
    "fold = 0\n",
    "results = []\n",
    "for train_val_index, test_index in kf.split(df_shuffled):\n",
    "    # Extract test set (20% of total)\n",
    "    test_df = df_shuffled.iloc[test_index]\n",
    "\n",
    "    # Extract the remaining data for this fold\n",
    "    train_val_df = df_shuffled.iloc[train_val_index]\n",
    "\n",
    "    # Further split remaining data into training (70% of total, 87.5% of remaining) and validation (10% of total, 12.5% of remaining)\n",
    "    train_df, val_df = train_test_split(train_val_df, test_size=0.125, random_state=42)  # 0.125 * 0.8 = 0.1 ~ 10% of total\n",
    "\n",
    "    # Save each fold's datasets to CSV files\n",
    "    train_df.to_csv(f'/explore/nobackup/people/spotter5/cnn_mapping/nbac_training/train_fold_{fold}.csv', index=False)\n",
    "    val_df.to_csv(f'/explore/nobackup/people/spotter5/cnn_mapping/nbac_training/val_fold_{fold}.csv', index=False)\n",
    "    test_df.to_csv(f'/explore/nobackup/people/spotter5/cnn_mapping/nbac_training/test_fold_{fold}.csv', index=False)\n",
    "\n",
    "    fold += 1\n",
    "    print(f\"Fold {fold}: Train {train_df.shape}, Validation {val_df.shape}, Test {test_df.shape}\")\n",
    "    results.append((train_df.shape, val_df.shape, test_df.shape))\n"
   ]
  },
  {
   "cell_type": "markdown",
   "id": "bef71c98-6094-4b88-853a-883b0d12906a",
   "metadata": {},
   "source": [
    "New try"
   ]
  },
  {
   "cell_type": "code",
   "execution_count": 29,
   "id": "b729a9af-a499-4707-b89e-544e3c384a5c",
   "metadata": {},
   "outputs": [
    {
     "name": "stdout",
     "output_type": "stream",
     "text": [
      "All unique identifiers are unique.\n",
      "Fold 0: Train (8697, 3), Validation (1243, 3), Test (2485, 3)\n",
      "Fold 1: Train (8697, 3), Validation (1243, 3), Test (2485, 3)\n",
      "Fold 2: Train (8697, 3), Validation (1243, 3), Test (2485, 3)\n",
      "Fold 3: Train (8697, 3), Validation (1243, 3), Test (2485, 3)\n",
      "Fold 4: Train (8697, 3), Validation (1243, 3), Test (2485, 3)\n"
     ]
    }
   ],
   "source": [
    "import geopandas as gpd\n",
    "import pandas as pd\n",
    "from sklearn.model_selection import train_test_split\n",
    "\n",
    "# Load and prepare data\n",
    "df = gpd.read_file('/explore/nobackup/people/spotter5/cnn_mapping/raw_files/nbac_1985.shp')\n",
    "df2 = gpd.read_file('/explore/nobackup/people/spotter5/cnn_mapping/raw_files/ak_mtbs_1985.shp').to_crs(df.crs)\n",
    "\n",
    "df['AOI'] = 'NBAC'\n",
    "df2['AOI'] = 'MTBS'\n",
    "\n",
    "# Concatenate the datasets\n",
    "df = pd.concat([df, df2], ignore_index=True)\n",
    "df = df[['AOI', 'ID']]\n",
    "\n",
    "# Create a unique identifier\n",
    "df['unique_id'] = df['AOI'].astype(str) + '_' + df['ID'].astype(str)\n",
    "\n",
    "# Verify uniqueness of 'unique_id'\n",
    "if df['unique_id'].duplicated().any():\n",
    "    print(\"There are duplicates in the unique identifier.\")\n",
    "else:\n",
    "    print(\"All unique identifiers are unique.\")\n",
    "\n",
    "# Shuffle once to randomize\n",
    "df = df.sample(frac=1, random_state=42).reset_index(drop=True)\n",
    "\n",
    "# Initialize a set to track used indices\n",
    "used_indices = set()\n",
    "num_samples = len(df)\n",
    "fold_size = num_samples // 5\n",
    "\n",
    "# Ensure non-overlapping test sets\n",
    "for fold in range(5):\n",
    "    # Identify available indices\n",
    "    available_indices = list(set(range(num_samples)) - used_indices)\n",
    "    \n",
    "    # For the last fold, include all remaining samples\n",
    "    if fold == 4:\n",
    "        test_indices = available_indices\n",
    "    else:\n",
    "        test_indices = pd.Series(available_indices).sample(n=fold_size, random_state=fold).tolist()\n",
    "    used_indices.update(test_indices)\n",
    "    \n",
    "    # Select test, training, and validation sets\n",
    "    test_df = df.iloc[test_indices]\n",
    "    train_val_df = df.drop(test_indices)\n",
    "    \n",
    "    # Split train_val_df into training and validation sets (80% train, 20% val)\n",
    "    train_df, val_df = train_test_split(train_val_df, test_size=0.125, random_state=fold)  # 0.125 * 0.8 = 0.1\n",
    "    \n",
    "    # Save datasets to CSV\n",
    "    train_df.to_csv(f'/explore/nobackup/people/spotter5/cnn_mapping/nbac_training/train_fold_{fold}.csv', index=False)\n",
    "    val_df.to_csv(f'/explore/nobackup/people/spotter5/cnn_mapping/nbac_training/val_fold_{fold}.csv', index=False)\n",
    "    test_df.to_csv(f'/explore/nobackup/people/spotter5/cnn_mapping/nbac_training/test_fold_{fold}.csv', index=False)\n",
    "    \n",
    "    print(f\"Fold {fold}: Train {train_df.shape}, Validation {val_df.shape}, Test {test_df.shape}\")\n"
   ]
  },
  {
   "cell_type": "code",
   "execution_count": 33,
   "id": "7fec94a1-d4cc-49fa-a4ce-43b1392a3b84",
   "metadata": {},
   "outputs": [
    {
     "name": "stdout",
     "output_type": "stream",
     "text": [
      "No overlap found between the test sets.\n"
     ]
    }
   ],
   "source": [
    "import pandas as pd\n",
    "\n",
    "# Define file paths for each fold's test set\n",
    "# test_files = [\n",
    "#     '/explore/nobackup/people/spotter5/cnn_mapping/nbac_training/test_fold_0.csv',\n",
    "#     '/explore/nobackup/people/spotter5/cnn_mapping/nbac_training/test_fold_1.csv',\n",
    "#     '/explore/nobackup/people/spotter5/cnn_mapping/nbac_training/test_fold_2.csv',\n",
    "#     '/explore/nobackup/people/spotter5/cnn_mapping/nbac_training/test_fold_3.csv',\n",
    "#     '/explore/nobackup/people/spotter5/cnn_mapping/nbac_training/test_fold_4.csv'\n",
    "# ]\n",
    "\n",
    "test_files = [\n",
    "    '/explore/nobackup/people/spotter5/cnn_mapping/Russia/test_fold_0.csv',\n",
    "    '/explore/nobackup/people/spotter5/cnn_mapping/Russia/test_fold_1.csv',\n",
    "    '/explore/nobackup/people/spotter5/cnn_mapping/Russia/test_fold_2.csv',\n",
    "    '/explore/nobackup/people/spotter5/cnn_mapping/Russia/test_fold_3.csv',\n",
    "    '/explore/nobackup/people/spotter5/cnn_mapping/Russia/test_fold_4.csv'\n",
    "]\n",
    "\n",
    "\n",
    "# Load each test set and concatenate them into a single DataFrame\n",
    "test_dfs = [pd.read_csv(file) for file in test_files]\n",
    "all_test_df = pd.concat(test_dfs, ignore_index=True)\n",
    "\n",
    "# Check for duplicate entries based on both 'AOI' and 'ID' columns\n",
    "# duplicates = all_test_df[all_test_df.duplicated(subset=['AOI', 'ID'], keep=False)]\n",
    "duplicates = all_test_df[all_test_df.duplicated(subset=['ID'], keep=False)]\n",
    "\n",
    "# Print results\n",
    "if duplicates.empty:\n",
    "    print(\"No overlap found between the test sets.\")\n",
    "else:\n",
    "    print(\"Overlap found between the test sets:\")\n",
    "    print(duplicates)\n"
   ]
  },
  {
   "cell_type": "code",
   "execution_count": 25,
   "id": "1a92acf6-d637-4dd8-9436-8806fdcf2b1b",
   "metadata": {},
   "outputs": [
    {
     "data": {
      "text/plain": [
       "(2354, 2)"
      ]
     },
     "execution_count": 25,
     "metadata": {},
     "output_type": "execute_result"
    }
   ],
   "source": [
    "duplicates.shape"
   ]
  },
  {
   "cell_type": "code",
   "execution_count": 20,
   "id": "895534ff-5f97-4798-a753-dda9de2ff536",
   "metadata": {},
   "outputs": [
    {
     "name": "stdout",
     "output_type": "stream",
     "text": [
      "[1025, 518, 7, 511, 523, 1036, 1039, 529, 19, 532, 533, 1047, 535, 1052, 541, 30, 1055, 543, 1057, 549, 550, 555, 45, 48, 562, 563, 50, 1077, 53, 1083, 1084, 574, 66, 1092, 582, 585, 83, 599, 89, 602, 1115, 603, 1119, 1120, 610, 100, 103, 104, 619, 1132, 1134, 115, 1142, 119, 1144, 121, 1146, 637, 1150, 641, 643, 645, 137, 651, 1167, 656, 145, 655, 1173, 151, 671, 673, 675, 676, 165, 173, 695, 184, 189, 702, 703, 709, 202, 724, 216, 730, 733, 228, 231, 753, 245, 249, 767, 257, 773, 276, 277, 795, 797, 798, 800, 289, 802, 808, 819, 820, 308, 312, 836, 328, 329, 841, 333, 334, 340, 352, 354, 355, 867, 869, 870, 368, 882, 370, 884, 372, 371, 887, 383, 384, 897, 901, 397, 915, 916, 924, 415, 421, 425, 432, 946, 950, 440, 953, 442, 464, 466, 474, 476, 993, 481, 995, 998, 999, 487, 493, 498, 1020, 509, 1023]\n"
     ]
    }
   ],
   "source": [
    "test_id = test_df['ID']\n",
    "train_id = train_df['ID']\n",
    "val_id = val_df['ID']\n",
    "\n",
    "#\n",
    "common_elements = set(train_id).intersection(val_id)\n",
    "\n",
    "# Convert the set back to a list, if needed\n",
    "common_elements_list = list(common_elements)\n",
    "\n",
    "print(common_elements_list)"
   ]
  },
  {
   "cell_type": "code",
   "execution_count": 4,
   "id": "3a074c3f-bfcc-4bb8-8cf5-308b573e2dcc",
   "metadata": {},
   "outputs": [],
   "source": [
    "df.to_csv('/explore/nobackup/people/spotter5/cnn_mapping/Russia/delete.csv')"
   ]
  },
  {
   "cell_type": "code",
   "execution_count": 5,
   "id": "bd95effa-79cc-454b-89ca-5bcae8b96970",
   "metadata": {},
   "outputs": [
    {
     "data": {
      "text/plain": [
       "(7740, 4)"
      ]
     },
     "execution_count": 5,
     "metadata": {},
     "output_type": "execute_result"
    }
   ],
   "source": [
    "df.shape"
   ]
  },
  {
   "cell_type": "markdown",
   "id": "6a0d0444-2283-4495-bf8f-69524417f99e",
   "metadata": {},
   "source": [
    "For some reason I don't have all the fires in my val sets, need to see why\n",
    "\n"
   ]
  },
  {
   "cell_type": "code",
   "execution_count": 23,
   "id": "ecc2cae9-e522-4e17-916a-89cf000913d7",
   "metadata": {},
   "outputs": [
    {
     "name": "stdout",
     "output_type": "stream",
     "text": [
      "Common IDs found across folds: [1, 2, 3, 4, 5, 6, 7, 8, 9, 10, 11, 12, 13, 14, 15, 16, 17, 18, 19, 20, 21, 22, 23, 24, 25, 26, 27, 28, 29, 30, 31, 32, 33, 34, 35, 36, 37, 38, 39, 40, 41, 42, 43, 44, 45, 46, 47, 48, 49, 50, 51, 52, 53, 54, 55, 56, 57, 58, 59, 60, 61, 62, 63, 64, 65, 66, 67, 68, 69, 70, 71, 72, 73, 74, 75, 76, 77, 78, 79, 80, 81, 82, 83, 84, 85, 86, 87, 88, 89, 90, 91, 92, 93, 94, 95, 96, 97, 98, 99, 100, 101, 102, 103, 104, 105, 106, 107, 108, 109, 110, 111, 112, 113, 114, 115, 116, 117, 118, 119, 120, 121, 122, 123, 124, 125, 126, 127, 128, 129, 130, 131, 132, 133, 134, 135, 136, 137, 138, 139, 140, 141, 142, 143, 144, 145, 146, 147, 148, 149, 150, 151, 152, 153, 154, 155, 156, 157, 158, 159, 160, 161, 162, 163, 164, 165, 166, 167, 168, 169, 170, 171, 172, 173, 174, 175, 176, 177, 178, 179, 180, 181, 182, 183, 184, 185, 186, 187, 188, 189, 190, 191, 192, 193, 194, 195, 196, 197, 198, 199, 200, 201, 202, 203, 204, 205, 206, 207, 208, 209, 210, 211, 212, 213, 214, 215, 216, 217, 218, 219, 220, 221, 222, 223, 224, 225, 226, 227, 228, 229, 230, 231, 232, 233, 234, 235, 236, 237, 238, 239, 240, 241, 242, 243, 244, 245, 246, 247, 248, 249, 250, 251, 252, 253, 254, 255, 256, 257, 258, 259, 260, 261, 262, 263, 264, 265, 266, 267, 268, 269, 270, 271, 272, 273, 274, 275, 276, 277, 278, 279, 280, 281, 282, 283, 284, 285, 286, 287, 288, 289, 290, 291, 292, 293, 294, 295, 296, 297, 298, 299, 300, 301, 302, 303, 304, 305, 306, 307, 308, 309, 310, 311, 312, 313, 314, 315, 316, 317, 318, 319, 320, 321, 322, 323, 324, 325, 326, 327, 328, 329, 330, 331, 332, 333, 334, 335, 336, 337, 338, 339, 340, 341, 342, 343, 344, 345, 346, 347, 348, 349, 350, 351, 352, 353, 354, 355, 356, 357, 358, 359, 360, 361, 362, 363, 364, 365, 366, 367, 368, 369, 370, 371, 372, 373, 374, 375, 376, 377, 378, 379, 380, 381, 382, 383, 384, 385, 386, 387, 388, 389, 390, 391, 392, 393, 394, 395, 396, 397, 398, 399, 400, 401, 402, 403, 404, 405, 406, 407, 408, 409, 410, 411, 412, 413, 414, 415, 416, 417, 418, 419, 420, 421, 422, 423, 424, 425, 426, 427, 428, 429, 430, 431, 432, 433, 434, 435, 436, 437, 438, 439, 440, 441, 442, 443, 444, 445, 446, 447, 448, 449, 450, 451, 452, 453, 454, 455, 456, 457, 458, 459, 460, 461, 462, 463, 464, 465, 466, 467, 468, 469, 470, 471, 472, 473, 474, 475, 476, 477, 478, 479, 480, 481, 482, 483, 484, 485, 486, 487, 488, 489, 490, 491, 492, 493, 494, 495, 496, 497, 498, 499, 500, 501, 502, 503, 504, 505, 506, 507, 508, 509, 510, 511, 512, 513, 514, 515, 516, 517, 518, 519, 520, 521, 522, 523, 524, 525, 526, 527, 528, 529, 530, 531, 532, 533, 534, 535, 536, 537, 538, 539, 540, 541, 542, 543, 544, 545, 546, 547, 548, 549, 550, 551, 552, 553, 554, 555, 556, 557, 558, 559, 560, 561, 562, 563, 564, 565, 566, 567, 568, 569, 570, 571, 572, 573, 574, 575, 576, 577, 578, 579, 580, 581, 582, 583, 584, 585, 586, 587, 588, 589, 590, 591, 592, 593, 594, 595, 596, 597, 598, 599, 600, 601, 602, 603, 604, 605, 606, 607, 608, 609, 610, 611, 612, 613, 614, 615, 616, 617, 618, 619, 620, 621, 622, 623, 624, 625, 626, 627, 628, 629, 630, 631, 632, 633, 634, 635, 636, 637, 638, 639, 640, 641, 642, 643, 644, 645, 646, 647, 648, 649, 650, 651, 652, 653, 654, 655, 656, 657, 658, 659, 660, 661, 662, 663, 664, 665, 666, 667, 668, 669, 670, 671, 672, 673, 674, 675, 676, 677, 678, 679, 680, 681, 682, 683, 684, 685, 686, 687, 688, 689, 690, 691, 692, 693, 694, 695, 696, 697, 698, 699, 700, 701, 702, 703, 704, 705, 706, 707, 708, 709, 710, 711, 712, 713, 714, 715, 716, 717, 718, 719, 720, 721, 722, 723, 724, 725, 726, 727, 728, 729, 730, 731, 732, 733, 734, 735, 736, 737, 738, 739, 740, 741, 742, 743, 744, 745, 746, 747, 748, 749, 750, 751, 752, 753, 754, 755, 756, 757, 758, 759, 760, 761, 762, 763, 764, 765, 766, 767, 768, 769, 770, 771, 772, 773, 774, 775, 776, 777, 778, 779, 780, 781, 782, 783, 784, 785, 786, 787, 788, 789, 790, 791, 792, 793, 794, 795, 796, 797, 798, 799, 800, 801, 802, 803, 804, 805, 806, 807, 808, 809, 810, 811, 812, 813, 814, 815, 816, 817, 818, 819, 820, 821, 822, 823, 824, 825, 826, 827, 828, 829, 830, 831, 832, 833, 834, 835, 836, 837, 838, 839, 840, 841, 842, 843, 844, 845, 846, 847, 848, 849, 850, 851, 852, 853, 854, 855, 856, 857, 858, 859, 860, 861, 862, 863, 864, 865, 866, 867, 868, 869, 870, 871, 872, 873, 874, 875, 876, 877, 878, 879, 880, 881, 882, 883, 884, 885, 886, 887, 888, 889, 890, 891, 892, 893, 894, 895, 896, 897, 898, 899, 900, 901, 902, 903, 904, 905, 906, 907, 908, 909, 910, 911, 912, 913, 914, 915, 916, 917, 918, 919, 920, 921, 922, 923, 924, 925, 926, 927, 928, 929, 930, 931, 932, 933, 934, 935, 936, 937, 938, 939, 940, 941, 942, 943, 944, 945, 946, 947, 948, 949, 950, 951, 952, 953, 954, 955, 956, 957, 958, 959, 960, 961, 962, 963, 964, 965, 966, 967, 968, 969, 970, 971, 972, 973, 974, 975, 976, 977, 978, 979, 980, 981, 982, 983, 984, 985, 986, 987, 988, 989, 990, 991, 992, 993, 994, 995, 996, 997, 998, 999, 1000, 1001, 1002, 1003, 1004, 1005, 1006, 1007, 1008, 1009, 1010, 1011, 1012, 1013, 1014, 1015, 1016, 1017, 1018, 1019, 1020, 1021, 1022, 1023, 1024, 1025, 1026, 1027, 1028, 1029, 1030, 1031, 1032, 1033, 1034, 1035, 1036, 1037, 1038, 1039, 1040, 1041, 1042, 1043, 1044, 1045, 1046, 1047, 1048, 1049, 1050, 1051, 1052, 1053, 1054, 1055, 1056, 1057, 1058, 1059, 1060, 1061, 1062, 1063, 1064, 1065, 1066, 1067, 1068, 1069, 1070, 1071, 1072, 1073, 1074, 1075, 1076, 1077, 1078, 1079, 1080, 1081, 1082, 1083, 1084, 1085, 1086, 1087, 1088, 1089, 1090, 1091, 1092, 1093, 1094, 1095, 1096, 1097, 1098, 1099, 1100, 1101, 1102, 1103, 1104, 1105, 1106, 1107, 1108, 1109, 1110, 1111, 1112, 1113, 1114, 1115, 1116, 1117, 1118, 1119, 1120, 1121, 1122, 1123, 1124, 1125, 1126, 1127, 1128, 1129, 1130, 1131, 1132, 1133, 1134, 1135, 1136, 1137, 1138, 1139, 1140, 1141, 1142, 1143, 1144, 1145, 1146, 1147, 1148, 1149, 1150, 1151, 1152, 1153, 1154, 1155, 1156, 1157, 1158, 1159, 1160, 1161, 1162, 1163, 1164, 1165, 1166, 1167, 1168, 1169, 1170, 1171, 1172, 1173, 1174, 1175, 1176, 1177]\n"
     ]
    }
   ],
   "source": [
    "# Load each test fold\n",
    "one = pd.read_csv('/explore/nobackup/people/spotter5/cnn_mapping/nbac_training/test_fold_0.csv', usecols=['ID'])\n",
    "two = pd.read_csv('/explore/nobackup/people/spotter5/cnn_mapping/nbac_training/test_fold_1.csv', usecols=['ID'])\n",
    "three = pd.read_csv('/explore/nobackup/people/spotter5/cnn_mapping/nbac_training/test_fold_2.csv', usecols=['ID'])\n",
    "four = pd.read_csv('/explore/nobackup/people/spotter5/cnn_mapping/nbac_training/test_fold_3.csv', usecols=['ID'])\n",
    "five = pd.read_csv('/explore/nobackup/people/spotter5/cnn_mapping/nbac_training/test_fold_4.csv', usecols=['ID'])\n",
    "\n",
    "# Concatenate all test IDs with an indicator column for each fold\n",
    "one['fold'] = 0\n",
    "two['fold'] = 1\n",
    "three['fold'] = 2\n",
    "four['fold'] = 3\n",
    "five['fold'] = 4\n",
    "merged = pd.concat([one, two, three, four, five])\n",
    "\n",
    "# Count occurrences of each ID across all folds\n",
    "id_counts = merged.groupby('ID').size()\n",
    "\n",
    "# Get IDs that appear in more than one fold\n",
    "common_ids = id_counts[id_counts > 1].index.tolist()\n",
    "\n",
    "if common_ids:\n",
    "    print(\"Common IDs found across folds:\", common_ids)\n",
    "else:\n",
    "    print(\"No common IDs across folds.\")"
   ]
  },
  {
   "cell_type": "code",
   "execution_count": null,
   "id": "9b37fad3-d524-4be1-b0b9-a62c93acfbaa",
   "metadata": {},
   "outputs": [],
   "source": []
  },
  {
   "cell_type": "code",
   "execution_count": 17,
   "id": "d7fa88b5-8d67-4e07-b7da-5a7a47b4f037",
   "metadata": {},
   "outputs": [
    {
     "name": "stdout",
     "output_type": "stream",
     "text": [
      "[    1     4     9 ... 11240 11244 11247]\n"
     ]
    }
   ],
   "source": [
    "# Merge the dataframes on the 'ID' column\n",
    "# merged = pd.merge(one, two, on='ID')\n",
    "# merged = pd.merge(merged, three, on='ID')\n",
    "# merged = pd.merge(merged, four, on='ID')\n",
    "# merged = pd.merge(merged, five, on='ID')\n",
    "\n",
    "merged = pd.concat([one, two, three, four, five])\n",
    "\n",
    "# Get the common IDs\n",
    "common_ids = merged['ID'].unique()\n",
    "print(common_ids)"
   ]
  },
  {
   "cell_type": "code",
   "execution_count": 29,
   "id": "a83bee73-8f86-42dd-a0d5-8b7587d853c8",
   "metadata": {},
   "outputs": [
    {
     "name": "stdout",
     "output_type": "stream",
     "text": [
      "not in list\n"
     ]
    }
   ],
   "source": [
    "\n",
    "#12450 ,12375. #12450 is in one\n",
    "if 12450 in common_ids:\n",
    "    \n",
    "    print(\"in list\")\n",
    "else:\n",
    "    print('not in list')"
   ]
  },
  {
   "cell_type": "code",
   "execution_count": 4,
   "id": "736e17dd-53ca-4f48-b2df-dea9ad523421",
   "metadata": {},
   "outputs": [
    {
     "name": "stderr",
     "output_type": "stream",
     "text": [
      "/tmp/ipykernel_1932323/1530560583.py:10: UserWarning: Geometry column does not contain geometry.\n",
      "  in_shape['geometry'] = in_shape['geometry'].apply(lambda geom: geom.wkt)\n"
     ]
    },
    {
     "data": {
      "text/plain": [
       "(7740, 4)"
      ]
     },
     "execution_count": 4,
     "metadata": {},
     "output_type": "execute_result"
    }
   ],
   "source": [
    "import geopandas as gpd\n",
    "\n",
    "df = pd.read_csv('/explore/nobackup/people/spotter5/cnn_mapping/Russia/anna_poly_check_ee.csv')\n",
    "df = df.rename(columns={'Image': 'ID'})\n",
    "df = df[df['ID'].isin(['29690000000000-0000000000', '29690000000000-0000023296']) == False]\n",
    "df['ID'] = df['ID'].astype(int)\n",
    "\n",
    "# Load shapefile data and merge with main dataframe\n",
    "in_shape = gpd.read_file('/explore/nobackup/people/spotter5/cnn_mapping/Russia/anna_polygons.shp')\n",
    "in_shape['geometry'] = in_shape['geometry'].apply(lambda geom: geom.wkt)\n",
    "in_shape = pd.DataFrame(in_shape[['Year', 'ID', 'area']])\n",
    "df = pd.merge(in_shape, df, on='ID', how='inner')\n",
    "df['Year'] = df['Year'].astype(int)\n",
    "df = df[df['Keep'] == 'Yes']\n",
    "\n",
    "df = df.reset_index(drop = True)\n",
    "df.shape"
   ]
  },
  {
   "cell_type": "markdown",
   "id": "0e4caf67-ae12-4b79-be86-056a6f90c007",
   "metadata": {},
   "source": [
    "make sure all the merged ids are in df"
   ]
  },
  {
   "cell_type": "code",
   "execution_count": 15,
   "id": "0851a9db-ef22-4201-8f60-e1c0b0d2cb02",
   "metadata": {},
   "outputs": [
    {
     "data": {
      "text/plain": [
       "[]"
      ]
     },
     "execution_count": 15,
     "metadata": {},
     "output_type": "execute_result"
    }
   ],
   "source": [
    "in_test = merged['ID'].unique()\n",
    "\n",
    "in_anna = df['ID'].unique()\n",
    "\n",
    "result = [item for item in in_test if item not in in_anna]\n",
    "\n",
    "result"
   ]
  },
  {
   "cell_type": "code",
   "execution_count": 16,
   "id": "ac58e4aa-54d2-43f4-81cf-015727ec9d9d",
   "metadata": {},
   "outputs": [
    {
     "data": {
      "text/plain": [
       "[]"
      ]
     },
     "execution_count": 16,
     "metadata": {},
     "output_type": "execute_result"
    }
   ],
   "source": [
    "result2 = [item for item in in_anna if item not in in_test]\n",
    "result2\n"
   ]
  },
  {
   "cell_type": "code",
   "execution_count": 9,
   "id": "4b410d3d-f09c-42f4-98c4-13d015c1aebf",
   "metadata": {},
   "outputs": [
    {
     "data": {
      "text/html": [
       "<div>\n",
       "<style scoped>\n",
       "    .dataframe tbody tr th:only-of-type {\n",
       "        vertical-align: middle;\n",
       "    }\n",
       "\n",
       "    .dataframe tbody tr th {\n",
       "        vertical-align: top;\n",
       "    }\n",
       "\n",
       "    .dataframe thead th {\n",
       "        text-align: right;\n",
       "    }\n",
       "</style>\n",
       "<table border=\"1\" class=\"dataframe\">\n",
       "  <thead>\n",
       "    <tr style=\"text-align: right;\">\n",
       "      <th></th>\n",
       "      <th>ID</th>\n",
       "    </tr>\n",
       "  </thead>\n",
       "  <tbody>\n",
       "  </tbody>\n",
       "</table>\n",
       "</div>"
      ],
      "text/plain": [
       "Empty DataFrame\n",
       "Columns: [ID]\n",
       "Index: []"
      ]
     },
     "execution_count": 9,
     "metadata": {},
     "output_type": "execute_result"
    }
   ],
   "source": [
    "merged.head()"
   ]
  }
 ],
 "metadata": {
  "kernelspec": {
   "display_name": "Python [conda env:.conda-deeplearning3]",
   "language": "python",
   "name": "conda-env-.conda-deeplearning3-py"
  },
  "language_info": {
   "codemirror_mode": {
    "name": "ipython",
    "version": 3
   },
   "file_extension": ".py",
   "mimetype": "text/x-python",
   "name": "python",
   "nbconvert_exporter": "python",
   "pygments_lexer": "ipython3",
   "version": "3.10.11"
  }
 },
 "nbformat": 4,
 "nbformat_minor": 5
}
