{
 "cells": [
  {
   "cell_type": "markdown",
   "id": "5252af2b-c611-4cc0-b1ae-e67a626a4f69",
   "metadata": {},
   "source": [
    "Convert tif data to dask for training"
   ]
  },
  {
   "cell_type": "code",
   "execution_count": null,
   "id": "bf16acfd-4bac-4b58-a154-3d28a6903cd1",
   "metadata": {},
   "outputs": [],
   "source": [
    "import rioxarray\n",
    "import os\n",
    "import pandas as pd\n",
    "import numpy as np\n",
    "import glob\n",
    "import time\n",
    "import dask\n",
    "import dask.dataframe as dd\n",
    "from dask.delayed import delayed\n",
    "\n",
    "# Record the start time\n",
    "start_time = time.time()\n",
    "\n",
    "\n",
    "# Output path\n",
    "out = '/explore/nobackup/people/spotter5/cnn_mapping/nbac_training/parquet_files'\n",
    "os.makedirs(out, exist_ok=True)\n",
    "\n",
    "# Code to read in all training data\n",
    "# all_files = glob.glob('/explore/nobackup/people/spotter5/cnn_mapping/nbac_training/l8_sent_collection2_proj/*.tif')\n",
    "# all_files = glob.glob('/explore/nobackup/people/spotter5/cnn_mapping/nbac_training/l8_sent_collection2_proj_mtbs/*.tif')\n",
    "# all_files = glob.glob('/explore/nobackup/people/spotter5/cnn_mapping/nbac_training/mtbs_old/*.tif')\n",
    "all_files = glob.glob('/explore/nobackup/people/spotter5/cnn_mapping/Russia/anna_old/*.tif')\n",
    "\n",
    "# Function to process each file\n",
    "@delayed\n",
    "def process_file(f):\n",
    "    try:\n",
    "        # Read in file and convert to numpy\n",
    "        in_file = rioxarray.open_rasterio(f).to_numpy().astype(float).round(3)\n",
    "\n",
    "        # Convert to band last\n",
    "        in_file = np.moveaxis(in_file, 0, 2)\n",
    "\n",
    "        x = in_file[:, :, :-1]\n",
    "        x[x == 0] = np.nan\n",
    "        x = np.round(x, 2)\n",
    "\n",
    "        y = in_file[:, :, -1].astype(float)\n",
    "        y[y < 0] = 0\n",
    "        y[y > 1] = 0\n",
    "\n",
    "        stacked = np.dstack([x, y])\n",
    "\n",
    "        # Reshape the 3D matrix to 2D\n",
    "        rows, cols, bands = stacked.shape\n",
    "        reshaped_data = stacked.reshape(rows * cols, bands)\n",
    "\n",
    "        # band_names = ['blue', 'green', 'red', 'NIR', 'SWIR1', 'SWIR2', 'dNBR', 'dNDVI', 'dNDII', 'y']\n",
    "        band_names = ['dNBR', 'dNDVI', 'dNDII', 'y']\n",
    "\n",
    "        # Create a DataFrame\n",
    "        training = pd.DataFrame(reshaped_data, columns=band_names).dropna()\n",
    "\n",
    "        training = training[['dNBR', 'dNDVI', 'dNDII', 'y']]\n",
    "        \n",
    "        return training\n",
    "\n",
    "    except Exception as e:\n",
    "        return pd.DataFrame()  # Return an empty DataFrame on error\n",
    "\n",
    "# Process all files in parallel\n",
    "delayed_results = [process_file(f) for f in all_files]\n",
    "combined_training = dd.from_delayed(delayed_results)\n",
    "\n",
    "# Write to Parquet in chunks\n",
    "combined_training.to_parquet(\n",
    "    os.path.join(out, 'all_training_anna_new.parquet'),\n",
    "    write_index=False,\n",
    "    engine='pyarrow',\n",
    "    compression='snappy',\n",
    "    write_metadata_file=True,\n",
    "    append=True,\n",
    "    overwrite=False,\n",
    "    compute=True,\n",
    ")\n",
    "\n",
    "# Record the end time\n",
    "end_time = time.time()\n",
    "\n",
    "# Calculate the elapsed time in seconds\n",
    "elapsed_time_seconds = end_time - start_time\n",
    "\n",
    "# Convert seconds to minutes\n",
    "elapsed_time_minutes = elapsed_time_seconds / 60\n",
    "\n",
    "print(f\"NBAC Elapsed time: {elapsed_time_minutes:.2f} minutes\")\n"
   ]
  },
  {
   "cell_type": "code",
   "execution_count": 4,
   "id": "528257c5-b019-4309-8c7a-7c14cb34bea0",
   "metadata": {},
   "outputs": [
    {
     "data": {
      "text/plain": [
       "1726587535.1589634"
      ]
     },
     "execution_count": 4,
     "metadata": {},
     "output_type": "execute_result"
    }
   ],
   "source": [
    "end_time"
   ]
  },
  {
   "cell_type": "markdown",
   "id": "7f2db59e-11f2-4c45-970f-8f8fb50aeb55",
   "metadata": {},
   "source": [
    "Memory efficient way"
   ]
  },
  {
   "cell_type": "code",
   "execution_count": 2,
   "id": "feb8ab42-56f3-4216-bd3b-188ee6bce1f4",
   "metadata": {},
   "outputs": [
    {
     "name": "stdout",
     "output_type": "stream",
     "text": [
      "NBAC Elapsed time: 66.27 minutes\n"
     ]
    }
   ],
   "source": [
    "import rioxarray\n",
    "import os\n",
    "import pandas as pd\n",
    "import numpy as np\n",
    "import glob\n",
    "import time\n",
    "import dask\n",
    "from dask.delayed import delayed\n",
    "\n",
    "# Record the start time\n",
    "start_time = time.time()\n",
    "\n",
    "# Output path\n",
    "out = '/explore/nobackup/people/spotter5/cnn_mapping/nbac_training/parquet_files'\n",
    "os.makedirs(out, exist_ok=True)\n",
    "\n",
    "# Code to read in all training data\n",
    "all_files = glob.glob('/explore/nobackup/people/spotter5/cnn_mapping/nbac_training/l8_sent_collection2_proj/*.tif')\n",
    "\n",
    "# Function to process each file\n",
    "@delayed\n",
    "def process_file(f):\n",
    "    try:\n",
    "        # Read in file and convert to numpy\n",
    "        in_file = rioxarray.open_rasterio(f).to_numpy().astype(float).round(3)\n",
    "\n",
    "        # Convert to band last\n",
    "        in_file = np.moveaxis(in_file, 0, 2)\n",
    "\n",
    "        x = in_file[:, :, :-1]\n",
    "        x[x == 0] = np.nan\n",
    "        x = np.round(x, 2)\n",
    "\n",
    "        y = in_file[:, :, -1].astype(float)\n",
    "        y[y < 0] = 0\n",
    "        y[y > 1] = 0\n",
    "\n",
    "        stacked = np.dstack([x, y])\n",
    "\n",
    "        # Reshape the 3D matrix to 2D\n",
    "        rows, cols, bands = stacked.shape\n",
    "        reshaped_data = stacked.reshape(rows * cols, bands)\n",
    "\n",
    "        band_names = ['blue', 'green', 'red', 'NIR', 'SWIR1', 'SWIR2', 'dNBR', 'dNDVI', 'dNDII', 'y']\n",
    "\n",
    "        # Create a DataFrame\n",
    "        training = pd.DataFrame(reshaped_data, columns=band_names).dropna()\n",
    "        training = training[['dNBR', 'dNDVI', 'dNDII', 'y']]\n",
    "\n",
    "        return training\n",
    "\n",
    "    except Exception as e:\n",
    "        return pd.DataFrame()  # Return an empty DataFrame on error\n",
    "\n",
    "# Process and save each file incrementally to avoid memory errors\n",
    "for i, f in enumerate(all_files):\n",
    "    delayed_training = process_file(f)\n",
    "    df = delayed_training.compute()  # Compute the delayed result (process the file)\n",
    "    \n",
    "    # Save each DataFrame to a separate Parquet file\n",
    "    df.to_parquet(\n",
    "        os.path.join(out, f'training_nbac_part_{i}.parquet'),\n",
    "        engine='pyarrow',\n",
    "        compression='snappy',\n",
    "        index=False\n",
    "    )\n",
    "    \n",
    "# Record the end time\n",
    "end_time = time.time()\n",
    "\n",
    "# Calculate the elapsed time in seconds\n",
    "elapsed_time_seconds = end_time - start_time\n",
    "\n",
    "# Convert seconds to minutes\n",
    "elapsed_time_minutes = elapsed_time_seconds / 60\n",
    "\n",
    "print(f\"NBAC Elapsed time: {elapsed_time_minutes:.2f} minutes\")\n"
   ]
  },
  {
   "cell_type": "code",
   "execution_count": 1,
   "id": "0557ab21-6b30-46e0-9ed6-feae2a4519ac",
   "metadata": {},
   "outputs": [
    {
     "name": "stderr",
     "output_type": "stream",
     "text": [
      "/home/spotter5/.conda/envs/deeplearning3/lib/python3.10/site-packages/dask/dataframe/_pyarrow_compat.py:17: FutureWarning: Minimal version of pyarrow will soon be increased to 14.0.1. You are using 11.0.0. Please consider upgrading.\n",
      "  warnings.warn(\n"
     ]
    },
    {
     "ename": "MemoryError",
     "evalue": "Unable to allocate 307. GiB for an array with shape (4, 10300370236) and data type float64",
     "output_type": "error",
     "traceback": [
      "\u001b[0;31m---------------------------------------------------------------------------\u001b[0m",
      "\u001b[0;31mMemoryError\u001b[0m                               Traceback (most recent call last)",
      "Cell \u001b[0;32mIn[1], line 62\u001b[0m\n\u001b[1;32m     59\u001b[0m combined_training \u001b[38;5;241m=\u001b[39m dd\u001b[38;5;241m.\u001b[39mfrom_delayed(delayed_results)\n\u001b[1;32m     61\u001b[0m \u001b[38;5;66;03m# Compute and save the combined Dask DataFrame to a single Parquet file\u001b[39;00m\n\u001b[0;32m---> 62\u001b[0m \u001b[43mcombined_training\u001b[49m\u001b[38;5;241;43m.\u001b[39;49m\u001b[43mrepartition\u001b[49m\u001b[43m(\u001b[49m\u001b[43mnpartitions\u001b[49m\u001b[38;5;241;43m=\u001b[39;49m\u001b[38;5;241;43m1\u001b[39;49m\u001b[43m)\u001b[49m\u001b[38;5;241;43m.\u001b[39;49m\u001b[43mto_parquet\u001b[49m\u001b[43m(\u001b[49m\n\u001b[1;32m     63\u001b[0m \u001b[43m    \u001b[49m\u001b[43moutput_parquet\u001b[49m\u001b[43m,\u001b[49m\n\u001b[1;32m     64\u001b[0m \u001b[43m    \u001b[49m\u001b[43mwrite_index\u001b[49m\u001b[38;5;241;43m=\u001b[39;49m\u001b[38;5;28;43;01mFalse\u001b[39;49;00m\u001b[43m,\u001b[49m\n\u001b[1;32m     65\u001b[0m \u001b[43m    \u001b[49m\u001b[43mengine\u001b[49m\u001b[38;5;241;43m=\u001b[39;49m\u001b[38;5;124;43m'\u001b[39;49m\u001b[38;5;124;43mpyarrow\u001b[39;49m\u001b[38;5;124;43m'\u001b[39;49m\u001b[43m,\u001b[49m\n\u001b[1;32m     66\u001b[0m \u001b[43m    \u001b[49m\u001b[43mcompression\u001b[49m\u001b[38;5;241;43m=\u001b[39;49m\u001b[38;5;124;43m'\u001b[39;49m\u001b[38;5;124;43msnappy\u001b[39;49m\u001b[38;5;124;43m'\u001b[39;49m\u001b[43m,\u001b[49m\n\u001b[1;32m     67\u001b[0m \u001b[43m    \u001b[49m\u001b[43mcompute\u001b[49m\u001b[38;5;241;43m=\u001b[39;49m\u001b[38;5;28;43;01mTrue\u001b[39;49;00m\u001b[43m,\u001b[49m\n\u001b[1;32m     68\u001b[0m \u001b[43m    \u001b[49m\u001b[43mwrite_metadata_file\u001b[49m\u001b[38;5;241;43m=\u001b[39;49m\u001b[38;5;28;43;01mFalse\u001b[39;49;00m\n\u001b[1;32m     69\u001b[0m \u001b[43m)\u001b[49m\n\u001b[1;32m     71\u001b[0m \u001b[38;5;66;03m# Record the end time\u001b[39;00m\n\u001b[1;32m     72\u001b[0m end_time \u001b[38;5;241m=\u001b[39m time\u001b[38;5;241m.\u001b[39mtime()\n",
      "File \u001b[0;32m~/.conda/envs/deeplearning3/lib/python3.10/site-packages/dask_expr/_collection.py:3152\u001b[0m, in \u001b[0;36mDataFrame.to_parquet\u001b[0;34m(self, path, **kwargs)\u001b[0m\n\u001b[1;32m   3149\u001b[0m \u001b[38;5;28;01mdef\u001b[39;00m \u001b[38;5;21mto_parquet\u001b[39m(\u001b[38;5;28mself\u001b[39m, path, \u001b[38;5;241m*\u001b[39m\u001b[38;5;241m*\u001b[39mkwargs):\n\u001b[1;32m   3150\u001b[0m     \u001b[38;5;28;01mfrom\u001b[39;00m \u001b[38;5;21;01mdask_expr\u001b[39;00m\u001b[38;5;21;01m.\u001b[39;00m\u001b[38;5;21;01mio\u001b[39;00m\u001b[38;5;21;01m.\u001b[39;00m\u001b[38;5;21;01mparquet\u001b[39;00m \u001b[38;5;28;01mimport\u001b[39;00m to_parquet\n\u001b[0;32m-> 3152\u001b[0m     \u001b[38;5;28;01mreturn\u001b[39;00m \u001b[43mto_parquet\u001b[49m\u001b[43m(\u001b[49m\u001b[38;5;28;43mself\u001b[39;49m\u001b[43m,\u001b[49m\u001b[43m \u001b[49m\u001b[43mpath\u001b[49m\u001b[43m,\u001b[49m\u001b[43m \u001b[49m\u001b[38;5;241;43m*\u001b[39;49m\u001b[38;5;241;43m*\u001b[39;49m\u001b[43mkwargs\u001b[49m\u001b[43m)\u001b[49m\n",
      "File \u001b[0;32m~/.conda/envs/deeplearning3/lib/python3.10/site-packages/dask_expr/io/parquet.py:521\u001b[0m, in \u001b[0;36mto_parquet\u001b[0;34m(df, path, compression, write_index, append, overwrite, ignore_divisions, partition_on, storage_options, custom_metadata, write_metadata_file, compute, compute_kwargs, schema, name_function, filesystem, engine, **kwargs)\u001b[0m\n\u001b[1;32m    501\u001b[0m     out \u001b[38;5;241m=\u001b[39m new_collection(\n\u001b[1;32m    502\u001b[0m         ToParquet(\n\u001b[1;32m    503\u001b[0m             df,\n\u001b[0;32m   (...)\u001b[0m\n\u001b[1;32m    517\u001b[0m         )\n\u001b[1;32m    518\u001b[0m     )\n\u001b[1;32m    520\u001b[0m \u001b[38;5;28;01mif\u001b[39;00m compute:\n\u001b[0;32m--> 521\u001b[0m     out \u001b[38;5;241m=\u001b[39m \u001b[43mout\u001b[49m\u001b[38;5;241;43m.\u001b[39;49m\u001b[43mcompute\u001b[49m\u001b[43m(\u001b[49m\u001b[38;5;241;43m*\u001b[39;49m\u001b[38;5;241;43m*\u001b[39;49m\u001b[43mcompute_kwargs\u001b[49m\u001b[43m)\u001b[49m\n\u001b[1;32m    523\u001b[0m \u001b[38;5;66;03m# Invalidate the filesystem listing cache for the output path after write.\u001b[39;00m\n\u001b[1;32m    524\u001b[0m \u001b[38;5;66;03m# We do this before returning, even if `compute=False`. This helps ensure\u001b[39;00m\n\u001b[1;32m    525\u001b[0m \u001b[38;5;66;03m# that reading files that were just written succeeds.\u001b[39;00m\n\u001b[1;32m    526\u001b[0m fs\u001b[38;5;241m.\u001b[39minvalidate_cache(path)\n",
      "File \u001b[0;32m~/.conda/envs/deeplearning3/lib/python3.10/site-packages/dask_expr/_collection.py:453\u001b[0m, in \u001b[0;36mFrameBase.compute\u001b[0;34m(self, fuse, **kwargs)\u001b[0m\n\u001b[1;32m    451\u001b[0m     out \u001b[38;5;241m=\u001b[39m out\u001b[38;5;241m.\u001b[39mrepartition(npartitions\u001b[38;5;241m=\u001b[39m\u001b[38;5;241m1\u001b[39m)\n\u001b[1;32m    452\u001b[0m out \u001b[38;5;241m=\u001b[39m out\u001b[38;5;241m.\u001b[39moptimize(fuse\u001b[38;5;241m=\u001b[39mfuse)\n\u001b[0;32m--> 453\u001b[0m \u001b[38;5;28;01mreturn\u001b[39;00m \u001b[43mDaskMethodsMixin\u001b[49m\u001b[38;5;241;43m.\u001b[39;49m\u001b[43mcompute\u001b[49m\u001b[43m(\u001b[49m\u001b[43mout\u001b[49m\u001b[43m,\u001b[49m\u001b[43m \u001b[49m\u001b[38;5;241;43m*\u001b[39;49m\u001b[38;5;241;43m*\u001b[39;49m\u001b[43mkwargs\u001b[49m\u001b[43m)\u001b[49m\n",
      "File \u001b[0;32m~/.conda/envs/deeplearning3/lib/python3.10/site-packages/dask/base.py:375\u001b[0m, in \u001b[0;36mDaskMethodsMixin.compute\u001b[0;34m(self, **kwargs)\u001b[0m\n\u001b[1;32m    351\u001b[0m \u001b[38;5;28;01mdef\u001b[39;00m \u001b[38;5;21mcompute\u001b[39m(\u001b[38;5;28mself\u001b[39m, \u001b[38;5;241m*\u001b[39m\u001b[38;5;241m*\u001b[39mkwargs):\n\u001b[1;32m    352\u001b[0m \u001b[38;5;250m    \u001b[39m\u001b[38;5;124;03m\"\"\"Compute this dask collection\u001b[39;00m\n\u001b[1;32m    353\u001b[0m \n\u001b[1;32m    354\u001b[0m \u001b[38;5;124;03m    This turns a lazy Dask collection into its in-memory equivalent.\u001b[39;00m\n\u001b[0;32m   (...)\u001b[0m\n\u001b[1;32m    373\u001b[0m \u001b[38;5;124;03m    dask.compute\u001b[39;00m\n\u001b[1;32m    374\u001b[0m \u001b[38;5;124;03m    \"\"\"\u001b[39;00m\n\u001b[0;32m--> 375\u001b[0m     (result,) \u001b[38;5;241m=\u001b[39m \u001b[43mcompute\u001b[49m\u001b[43m(\u001b[49m\u001b[38;5;28;43mself\u001b[39;49m\u001b[43m,\u001b[49m\u001b[43m \u001b[49m\u001b[43mtraverse\u001b[49m\u001b[38;5;241;43m=\u001b[39;49m\u001b[38;5;28;43;01mFalse\u001b[39;49;00m\u001b[43m,\u001b[49m\u001b[43m \u001b[49m\u001b[38;5;241;43m*\u001b[39;49m\u001b[38;5;241;43m*\u001b[39;49m\u001b[43mkwargs\u001b[49m\u001b[43m)\u001b[49m\n\u001b[1;32m    376\u001b[0m     \u001b[38;5;28;01mreturn\u001b[39;00m result\n",
      "File \u001b[0;32m~/.conda/envs/deeplearning3/lib/python3.10/site-packages/dask/base.py:661\u001b[0m, in \u001b[0;36mcompute\u001b[0;34m(traverse, optimize_graph, scheduler, get, *args, **kwargs)\u001b[0m\n\u001b[1;32m    658\u001b[0m     postcomputes\u001b[38;5;241m.\u001b[39mappend(x\u001b[38;5;241m.\u001b[39m__dask_postcompute__())\n\u001b[1;32m    660\u001b[0m \u001b[38;5;28;01mwith\u001b[39;00m shorten_traceback():\n\u001b[0;32m--> 661\u001b[0m     results \u001b[38;5;241m=\u001b[39m \u001b[43mschedule\u001b[49m\u001b[43m(\u001b[49m\u001b[43mdsk\u001b[49m\u001b[43m,\u001b[49m\u001b[43m \u001b[49m\u001b[43mkeys\u001b[49m\u001b[43m,\u001b[49m\u001b[43m \u001b[49m\u001b[38;5;241;43m*\u001b[39;49m\u001b[38;5;241;43m*\u001b[39;49m\u001b[43mkwargs\u001b[49m\u001b[43m)\u001b[49m\n\u001b[1;32m    663\u001b[0m \u001b[38;5;28;01mreturn\u001b[39;00m repack([f(r, \u001b[38;5;241m*\u001b[39ma) \u001b[38;5;28;01mfor\u001b[39;00m r, (f, a) \u001b[38;5;129;01min\u001b[39;00m \u001b[38;5;28mzip\u001b[39m(results, postcomputes)])\n",
      "File \u001b[0;32m~/.conda/envs/deeplearning3/lib/python3.10/site-packages/dask/dataframe/dispatch.py:68\u001b[0m, in \u001b[0;36mconcat\u001b[0;34m(dfs, axis, join, uniform, filter_warning, ignore_index, **kwargs)\u001b[0m\n\u001b[1;32m     66\u001b[0m \u001b[38;5;28;01melse\u001b[39;00m:\n\u001b[1;32m     67\u001b[0m     func \u001b[38;5;241m=\u001b[39m concat_dispatch\u001b[38;5;241m.\u001b[39mdispatch(\u001b[38;5;28mtype\u001b[39m(dfs[\u001b[38;5;241m0\u001b[39m]))\n\u001b[0;32m---> 68\u001b[0m     \u001b[38;5;28;01mreturn\u001b[39;00m \u001b[43mfunc\u001b[49m\u001b[43m(\u001b[49m\n\u001b[1;32m     69\u001b[0m \u001b[43m        \u001b[49m\u001b[43mdfs\u001b[49m\u001b[43m,\u001b[49m\n\u001b[1;32m     70\u001b[0m \u001b[43m        \u001b[49m\u001b[43maxis\u001b[49m\u001b[38;5;241;43m=\u001b[39;49m\u001b[43maxis\u001b[49m\u001b[43m,\u001b[49m\n\u001b[1;32m     71\u001b[0m \u001b[43m        \u001b[49m\u001b[43mjoin\u001b[49m\u001b[38;5;241;43m=\u001b[39;49m\u001b[43mjoin\u001b[49m\u001b[43m,\u001b[49m\n\u001b[1;32m     72\u001b[0m \u001b[43m        \u001b[49m\u001b[43muniform\u001b[49m\u001b[38;5;241;43m=\u001b[39;49m\u001b[43muniform\u001b[49m\u001b[43m,\u001b[49m\n\u001b[1;32m     73\u001b[0m \u001b[43m        \u001b[49m\u001b[43mfilter_warning\u001b[49m\u001b[38;5;241;43m=\u001b[39;49m\u001b[43mfilter_warning\u001b[49m\u001b[43m,\u001b[49m\n\u001b[1;32m     74\u001b[0m \u001b[43m        \u001b[49m\u001b[43mignore_index\u001b[49m\u001b[38;5;241;43m=\u001b[39;49m\u001b[43mignore_index\u001b[49m\u001b[43m,\u001b[49m\n\u001b[1;32m     75\u001b[0m \u001b[43m        \u001b[49m\u001b[38;5;241;43m*\u001b[39;49m\u001b[38;5;241;43m*\u001b[39;49m\u001b[43mkwargs\u001b[49m\u001b[43m,\u001b[49m\n\u001b[1;32m     76\u001b[0m \u001b[43m    \u001b[49m\u001b[43m)\u001b[49m\n",
      "File \u001b[0;32m~/.conda/envs/deeplearning3/lib/python3.10/site-packages/dask/dataframe/backends.py:688\u001b[0m, in \u001b[0;36mconcat_pandas\u001b[0;34m(dfs, axis, join, uniform, filter_warning, ignore_index, **kwargs)\u001b[0m\n\u001b[1;32m    686\u001b[0m             \u001b[38;5;28;01mif\u001b[39;00m filter_warning:\n\u001b[1;32m    687\u001b[0m                 warnings\u001b[38;5;241m.\u001b[39msimplefilter(\u001b[38;5;124m\"\u001b[39m\u001b[38;5;124mignore\u001b[39m\u001b[38;5;124m\"\u001b[39m, \u001b[38;5;167;01mFutureWarning\u001b[39;00m)\n\u001b[0;32m--> 688\u001b[0m             out \u001b[38;5;241m=\u001b[39m \u001b[43mpd\u001b[49m\u001b[38;5;241;43m.\u001b[39;49m\u001b[43mconcat\u001b[49m\u001b[43m(\u001b[49m\u001b[43mdfs3\u001b[49m\u001b[43m,\u001b[49m\u001b[43m \u001b[49m\u001b[43mjoin\u001b[49m\u001b[38;5;241;43m=\u001b[39;49m\u001b[43mjoin\u001b[49m\u001b[43m,\u001b[49m\u001b[43m \u001b[49m\u001b[43msort\u001b[49m\u001b[38;5;241;43m=\u001b[39;49m\u001b[38;5;28;43;01mFalse\u001b[39;49;00m\u001b[43m)\u001b[49m\n\u001b[1;32m    689\u001b[0m \u001b[38;5;28;01melse\u001b[39;00m:\n\u001b[1;32m    690\u001b[0m     \u001b[38;5;28;01mif\u001b[39;00m \u001b[38;5;28misinstance\u001b[39m(dfs2[\u001b[38;5;241m0\u001b[39m]\u001b[38;5;241m.\u001b[39mdtype, pd\u001b[38;5;241m.\u001b[39mCategoricalDtype):\n",
      "File \u001b[0;32m<__array_function__ internals>:200\u001b[0m, in \u001b[0;36mconcatenate\u001b[0;34m(*args, **kwargs)\u001b[0m\n",
      "\u001b[0;31mMemoryError\u001b[0m: Unable to allocate 307. GiB for an array with shape (4, 10300370236) and data type float64"
     ]
    }
   ],
   "source": [
    "import rioxarray\n",
    "import os\n",
    "import pandas as pd\n",
    "import numpy as np\n",
    "import glob\n",
    "import time\n",
    "import dask\n",
    "import dask.dataframe as dd\n",
    "from dask.delayed import delayed\n",
    "\n",
    "# Record the start time\n",
    "start_time = time.time()\n",
    "\n",
    "# Output path for the final Parquet file\n",
    "output_parquet = '/explore/nobackup/people/spotter5/cnn_mapping/nbac_training/parquet_files/all_training_nbac_new.parquet'\n",
    "\n",
    "# Code to read in all training data\n",
    "# all_files = glob.glob('/explore/nobackup/people/spotter5/cnn_mapping/nbac_training/l8_sent_collection2_proj/*.tif')\n",
    "all_files = glob.glob('/explore/nobackup/people/spotter5/cnn_mapping/nbac_training/nbac_old/*.tif')\n",
    "\n",
    "# Function to process each file\n",
    "@delayed\n",
    "def process_file(f):\n",
    "    try:\n",
    "        # Read in file and convert to numpy\n",
    "        in_file = rioxarray.open_rasterio(f).to_numpy().astype(float).round(3)\n",
    "\n",
    "         # Convert to band last\n",
    "        in_file = np.moveaxis(in_file, 0, 2)\n",
    "\n",
    "        x = in_file[:, :, :-1]\n",
    "        x[x == 0] = np.nan\n",
    "        x = np.round(x, 2)\n",
    "\n",
    "        y = in_file[:, :, -1].astype(float)\n",
    "        y[y < 0] = 0\n",
    "        y[y > 1] = 0\n",
    "\n",
    "        stacked = np.dstack([x, y])\n",
    "\n",
    "        # Reshape the 3D matrix to 2D\n",
    "        rows, cols, bands = stacked.shape\n",
    "        reshaped_data = stacked.reshape(rows * cols, bands)\n",
    "\n",
    "        # band_names = ['blue', 'green', 'red', 'NIR', 'SWIR1', 'SWIR2', 'dNBR', 'dNDVI', 'dNDII', 'y']\n",
    "        band_names = ['dNBR', 'dNDVI', 'dNDII', 'y']\n",
    "\n",
    "        # Create a DataFrame\n",
    "        training = pd.DataFrame(reshaped_data, columns=band_names).dropna()\n",
    "        return training\n",
    "\n",
    "    except Exception as e:\n",
    "        return pd.DataFrame()  # Return an empty DataFrame on error\n",
    "\n",
    "# Process all files in parallel\n",
    "delayed_results = [process_file(f) for f in all_files]\n",
    "\n",
    "# Create a Dask DataFrame from delayed objects\n",
    "combined_training = dd.from_delayed(delayed_results)\n",
    "\n",
    "# Compute and save the combined Dask DataFrame to a single Parquet file\n",
    "combined_training.repartition(npartitions=1).to_parquet(\n",
    "    output_parquet,\n",
    "    write_index=False,\n",
    "    engine='pyarrow',\n",
    "    compression='snappy',\n",
    "    compute=True,\n",
    "    write_metadata_file=False\n",
    ")\n",
    "\n",
    "# Record the end time\n",
    "end_time = time.time()\n",
    "\n",
    "# Calculate the elapsed time in seconds\n",
    "elapsed_time_seconds = end_time - start_time\n",
    "\n",
    "# Convert seconds to minutes\n",
    "elapsed_time_minutes = elapsed_time_seconds / 60\n",
    "\n",
    "print(f\"NBAC Elapsed time: {elapsed_time_minutes:.2f} minutes\")\n"
   ]
  },
  {
   "cell_type": "code",
   "execution_count": null,
   "id": "e4de3469-fa63-4432-96be-667fe49f6f75",
   "metadata": {},
   "outputs": [
    {
     "name": "stderr",
     "output_type": "stream",
     "text": [
      "/home/spotter5/.conda/envs/deeplearning3/lib/python3.10/site-packages/dask/dataframe/_pyarrow_compat.py:17: FutureWarning: Minimal version of pyarrow will soon be increased to 14.0.1. You are using 11.0.0. Please consider upgrading.\n",
      "  warnings.warn(\n"
     ]
    }
   ],
   "source": [
    "import rioxarray\n",
    "import os\n",
    "import pandas as pd\n",
    "import numpy as np\n",
    "import glob\n",
    "import time\n",
    "import dask\n",
    "import dask.dataframe as dd\n",
    "from dask.delayed import delayed\n",
    "\n",
    "# Record the start time\n",
    "start_time = time.time()\n",
    "\n",
    "# Output path for the final Parquet file\n",
    "output_parquet = '/explore/nobackup/people/spotter5/cnn_mapping/nbac_training/parquet_files/all_training_nbac_new.parquet'\n",
    "\n",
    "# Get a list of all TIF files\n",
    "all_files = glob.glob('/explore/nobackup/people/spotter5/cnn_mapping/nbac_training/nbac_old/*.tif')\n",
    "\n",
    "# Function to process each file\n",
    "@delayed\n",
    "def process_file(f):\n",
    "    try:\n",
    "        # Read in file and convert to numpy\n",
    "        in_file = rioxarray.open_rasterio(f).to_numpy().astype(float).round(3)\n",
    "\n",
    "        # Convert to band last\n",
    "        in_file = np.moveaxis(in_file, 0, 2)\n",
    "\n",
    "        x = in_file[:, :, :-1]\n",
    "        x[x == 0] = np.nan\n",
    "        x = np.round(x, 2)\n",
    "\n",
    "        y = in_file[:, :, -1].astype(float)\n",
    "        y[y < 0] = 0\n",
    "        y[y > 1] = 0\n",
    "\n",
    "        stacked = np.dstack([x, y])\n",
    "\n",
    "        # Reshape the 3D matrix to 2D\n",
    "        rows, cols, bands = stacked.shape\n",
    "        reshaped_data = stacked.reshape(rows * cols, bands)\n",
    "\n",
    "        # Define band names\n",
    "        band_names = ['dNBR', 'dNDVI', 'dNDII', 'y']\n",
    "\n",
    "        # Create a DataFrame\n",
    "        training = pd.DataFrame(reshaped_data, columns=band_names).dropna()\n",
    "        return training\n",
    "\n",
    "    except Exception as e:\n",
    "        return pd.DataFrame()  # Return an empty DataFrame on error\n",
    "\n",
    "# Process files in smaller batches\n",
    "batch_size = 100  # Adjust batch size depending on memory limitations\n",
    "for i in range(0, len(all_files), batch_size):\n",
    "    batch_files = all_files[i:i + batch_size]\n",
    "\n",
    "    # Process the batch of files\n",
    "    delayed_results = [process_file(f) for f in batch_files]\n",
    "\n",
    "    # Create a Dask DataFrame from delayed objects\n",
    "    combined_training = dd.from_delayed(delayed_results)\n",
    "\n",
    "    # Save the batch to a Parquet file, append to existing files\n",
    "    combined_training.to_parquet(\n",
    "        output_parquet,\n",
    "        write_index=False,\n",
    "        engine='pyarrow',\n",
    "        compression='snappy',\n",
    "        compute=True,\n",
    "        append=True  # Append to avoid overwriting\n",
    "    )\n",
    "\n",
    "# Record the end time\n",
    "end_time = time.time()\n",
    "\n",
    "# Calculate the elapsed time in seconds\n",
    "elapsed_time_seconds = end_time - start_time\n",
    "\n",
    "# Convert seconds to minutes\n",
    "elapsed_time_minutes = elapsed_time_seconds / 60\n",
    "\n",
    "print(f\"NBAC Elapsed time: {elapsed_time_minutes:.2f} minutes\")\n"
   ]
  },
  {
   "cell_type": "code",
   "execution_count": 4,
   "id": "4a0abb4a-7059-482c-ad6f-1ebc05987725",
   "metadata": {},
   "outputs": [
    {
     "name": "stderr",
     "output_type": "stream",
     "text": [
      "\n",
      "KeyboardInterrupt\n",
      "\n"
     ]
    }
   ],
   "source": [
    "import dask.dataframe as dd\n",
    "import pandas as pd\n",
    "# Read the Parquet file in chunks using Dask\n",
    "mtbs = dd.read_parquet('/explore/nobackup/people/spotter5/cnn_mapping/nbac_training/parquet_files/all_training_mtbs.parquet', blocksize='100MB')\n",
    "\n",
    "# Initialize a counter for the total number of rows\n",
    "total_rows = 0\n",
    "\n",
    "# Iterate through each chunk and calculate the number of rows\n",
    "for chunk in mtbs.to_delayed():\n",
    "    chunk_df = chunk.compute()  # Convert the chunk to a Pandas DataFrame\n",
    "    total_rows += len(chunk_df)  # Add the number of rows in this chunk to the total\n",
    "\n",
    "print(f\"Total number of rows: {total_rows}\")\n",
    "\n",
    "#mtbs is 468203344"
   ]
  },
  {
   "cell_type": "raw",
   "id": "ddfa0aa0-b904-4b58-9efa-3d05d5efb916",
   "metadata": {},
   "source": [
    "Save to one file to combine nbac and mtbs"
   ]
  },
  {
   "cell_type": "code",
   "execution_count": null,
   "id": "4855ed98-3489-49cd-b54a-f33fdb5389e1",
   "metadata": {},
   "outputs": [],
   "source": [
    "import dask.dataframe as dd\n",
    "\n",
    "# Read the large Parquet files with Dask\n",
    "mtbs = dd.read_parquet('/explore/nobackup/people/spotter5/cnn_mapping/nbac_training/parquet_files/all_training_mtbs.parquet')\n",
    "nbac = dd.read_parquet('/explore/nobackup/people/spotter5/cnn_mapping/nbac_training/parquet_files/all_training_nbac.parquet')\n",
    "\n",
    "# Concatenate the two DataFrames\n",
    "combined_df = dd.concat([mtbs, nbac])\n",
    "\n",
    "selected_columns = combined_df[['dNBR', 'dNDVI', 'dNDII', 'y']]\n",
    "\n",
    "# Drop all rows containing NaN values\n",
    "cleaned_df = selected_columns.dropna()\n",
    "\n",
    "# Drop all rows containing NaN values\n",
    "cleaned_df = combined_df.dropna()\n",
    "\n",
    "# Save the cleaned, combined DataFrame to a new Parquet file\n",
    "output_path = '/explore/nobackup/people/spotter5/cnn_mapping/nbac_training/parquet_files/all_training_mtbs_nbac.parquet'\n",
    "cleaned_df.to_parquet(output_path, write_index=False, engine='pyarrow', compression='snappy')\n"
   ]
  },
  {
   "cell_type": "code",
   "execution_count": null,
   "id": "3ff2653c-3c00-42dd-a595-756a9b916b73",
   "metadata": {},
   "outputs": [],
   "source": []
  },
  {
   "cell_type": "code",
   "execution_count": null,
   "id": "a678b427-7e4d-4a58-afa7-59ee8971c22a",
   "metadata": {},
   "outputs": [],
   "source": [
    "import pandas as pd\n",
    "t1 = pd.read_parquet('/explore/nobackup/people/spotter5/cnn_mapping/nbac_training/parquet_files/all_training_mtbs.parquet', columns = ['dNBR', 'dNDVI', 'dNDII', 'y'])\n",
    "t2 = pd.read_parquet('/explore/nobackup/people/spotter5/cnn_mapping/nbac_training/parquet_files/all_training_nbac.parquet', columns = ['dNBR', 'dNDVI', 'dNDII', 'y'])\n",
    "\n",
    "\n",
    "t.head()"
   ]
  },
  {
   "cell_type": "code",
   "execution_count": 1,
   "id": "a2527d69-9a57-41bd-996b-d44027353e33",
   "metadata": {},
   "outputs": [
    {
     "name": "stderr",
     "output_type": "stream",
     "text": [
      "/home/spotter5/.conda/envs/deeplearning3/lib/python3.10/site-packages/dask/dataframe/_pyarrow_compat.py:17: FutureWarning: Minimal version of pyarrow will soon be increased to 14.0.1. You are using 11.0.0. Please consider upgrading.\n",
      "  warnings.warn(\n"
     ]
    },
    {
     "name": "stdout",
     "output_type": "stream",
     "text": [
      "Combined file saved to /explore/nobackup/people/spotter5/cnn_mapping/nbac_training/parquet_files/all_training_na.parquet\n"
     ]
    }
   ],
   "source": [
    "import dask.dataframe as dd\n",
    "\n",
    "# Define the file paths\n",
    "file1 = '/explore/nobackup/people/spotter5/cnn_mapping/nbac_training/parquet_files/all_training_mtbs.parquet'\n",
    "file2 = '/explore/nobackup/people/spotter5/cnn_mapping/nbac_training/parquet_files/all_training_nbac.parquet'\n",
    "new_file = '/explore/nobackup/people/spotter5/cnn_mapping/nbac_training/parquet_files/all_training_na.parquet'\n",
    "\n",
    "# Read the parquet files in chunks using Dask\n",
    "df1 = dd.read_parquet(file1, columns=['dNBR', 'dNDVI', 'dNDII', 'y'], hunksize='100MB')\n",
    "df2 = dd.read_parquet(file2, columns=['dNBR', 'dNDVI', 'dNDII', 'y'], hunksize='100MB')\n",
    "\n",
    "# Concatenate the Dask dataframes\n",
    "combined_df = dd.concat([df1, df2])\n",
    "\n",
    "# Write the combined dataframe to a new parquet file\n",
    "combined_df.to_parquet(new_file)\n",
    "\n",
    "print(f'Combined file saved to {new_file}')"
   ]
  },
  {
   "cell_type": "code",
   "execution_count": 2,
   "id": "2a24a475-5952-4a01-83c3-926bedfe10d3",
   "metadata": {},
   "outputs": [
    {
     "data": {
      "text/plain": [
       "'t'"
      ]
     },
     "execution_count": 2,
     "metadata": {},
     "output_type": "execute_result"
    }
   ],
   "source": [
    "'t'"
   ]
  },
  {
   "cell_type": "code",
   "execution_count": 3,
   "id": "91432118-09a6-4743-bfdb-00f61ac9ff85",
   "metadata": {},
   "outputs": [
    {
     "data": {
      "text/plain": [
       "(<dask_expr.expr.Scalar: expr=(Concat(frames=[ReadParquetFSSpec(4c7ba11), ReadParquetFSSpec(0615f87)], )).size() / 4, dtype=float64>,\n",
       " 4)"
      ]
     },
     "execution_count": 3,
     "metadata": {},
     "output_type": "execute_result"
    }
   ],
   "source": [
    "combined_df.shape"
   ]
  },
  {
   "cell_type": "code",
   "execution_count": null,
   "id": "c1fdba0c-247f-4968-ad55-327ff7466c88",
   "metadata": {},
   "outputs": [],
   "source": [
    "import pandas as pd\n",
    "l = pd.read_parquet('/explore/nobackup/people/spotter5/cnn_mapping/nbac_training/parquet_files/all_training_na.parquet',  columns=['dNBR', 'dNDVI', 'dNDII', 'y']).reset_index(drop = True).head(1000000)\n",
    "l['y'] = l['y'].astype(int)\n",
    "l.shape"
   ]
  },
  {
   "cell_type": "code",
   "execution_count": 9,
   "id": "75ecea0d-2741-4709-85e4-4848f8c35bdf",
   "metadata": {},
   "outputs": [
    {
     "data": {
      "text/plain": [
       "array([0., 1.])"
      ]
     },
     "execution_count": 9,
     "metadata": {},
     "output_type": "execute_result"
    }
   ],
   "source": [
    "l['y'].unique()"
   ]
  },
  {
   "cell_type": "code",
   "execution_count": 12,
   "id": "6acffcb4-8503-46e6-9970-668951f3e786",
   "metadata": {},
   "outputs": [
    {
     "data": {
      "text/html": [
       "<div>\n",
       "<style scoped>\n",
       "    .dataframe tbody tr th:only-of-type {\n",
       "        vertical-align: middle;\n",
       "    }\n",
       "\n",
       "    .dataframe tbody tr th {\n",
       "        vertical-align: top;\n",
       "    }\n",
       "\n",
       "    .dataframe thead th {\n",
       "        text-align: right;\n",
       "    }\n",
       "</style>\n",
       "<table border=\"1\" class=\"dataframe\">\n",
       "  <thead>\n",
       "    <tr style=\"text-align: right;\">\n",
       "      <th></th>\n",
       "      <th>dNBR</th>\n",
       "      <th>dNDVI</th>\n",
       "      <th>dNDII</th>\n",
       "      <th>y</th>\n",
       "    </tr>\n",
       "  </thead>\n",
       "  <tbody>\n",
       "    <tr>\n",
       "      <th>0</th>\n",
       "      <td>-101.0</td>\n",
       "      <td>-45.0</td>\n",
       "      <td>-104.0</td>\n",
       "      <td>0.0</td>\n",
       "    </tr>\n",
       "    <tr>\n",
       "      <th>1</th>\n",
       "      <td>-91.0</td>\n",
       "      <td>-54.0</td>\n",
       "      <td>-107.0</td>\n",
       "      <td>0.0</td>\n",
       "    </tr>\n",
       "    <tr>\n",
       "      <th>2</th>\n",
       "      <td>-66.0</td>\n",
       "      <td>-5.0</td>\n",
       "      <td>-74.0</td>\n",
       "      <td>0.0</td>\n",
       "    </tr>\n",
       "    <tr>\n",
       "      <th>3</th>\n",
       "      <td>-49.0</td>\n",
       "      <td>-105.0</td>\n",
       "      <td>-33.0</td>\n",
       "      <td>0.0</td>\n",
       "    </tr>\n",
       "    <tr>\n",
       "      <th>4</th>\n",
       "      <td>-101.0</td>\n",
       "      <td>-144.0</td>\n",
       "      <td>-94.0</td>\n",
       "      <td>0.0</td>\n",
       "    </tr>\n",
       "  </tbody>\n",
       "</table>\n",
       "</div>"
      ],
      "text/plain": [
       "    dNBR  dNDVI  dNDII    y\n",
       "0 -101.0  -45.0 -104.0  0.0\n",
       "1  -91.0  -54.0 -107.0  0.0\n",
       "2  -66.0   -5.0  -74.0  0.0\n",
       "3  -49.0 -105.0  -33.0  0.0\n",
       "4 -101.0 -144.0  -94.0  0.0"
      ]
     },
     "execution_count": 12,
     "metadata": {},
     "output_type": "execute_result"
    }
   ],
   "source": [
    "l.head().reset_index(drop = True)"
   ]
  },
  {
   "cell_type": "code",
   "execution_count": null,
   "id": "9cd7d57b-18b2-47d8-a9f9-b29fd35be9dc",
   "metadata": {},
   "outputs": [],
   "source": []
  }
 ],
 "metadata": {
  "kernelspec": {
   "display_name": "Python [conda env:.conda-deeplearning3]",
   "language": "python",
   "name": "conda-env-.conda-deeplearning3-py"
  },
  "language_info": {
   "codemirror_mode": {
    "name": "ipython",
    "version": 3
   },
   "file_extension": ".py",
   "mimetype": "text/x-python",
   "name": "python",
   "nbconvert_exporter": "python",
   "pygments_lexer": "ipython3",
   "version": "3.10.11"
  }
 },
 "nbformat": 4,
 "nbformat_minor": 5
}
