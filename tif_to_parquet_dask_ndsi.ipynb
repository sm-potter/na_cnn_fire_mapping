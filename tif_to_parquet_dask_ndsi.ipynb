{
 "cells": [
  {
   "cell_type": "markdown",
   "id": "5252af2b-c611-4cc0-b1ae-e67a626a4f69",
   "metadata": {},
   "source": [
    "Convert tif data to dask for training"
   ]
  },
  {
   "cell_type": "code",
   "execution_count": 2,
   "id": "bf16acfd-4bac-4b58-a154-3d28a6903cd1",
   "metadata": {},
   "outputs": [
    {
     "name": "stdout",
     "output_type": "stream",
     "text": [
      "NBAC Elapsed time: 659.26 minutes\n"
     ]
    }
   ],
   "source": [
    "import rioxarray\n",
    "import os\n",
    "import pandas as pd\n",
    "import numpy as np\n",
    "import glob\n",
    "import time\n",
    "import dask\n",
    "import dask.dataframe as dd\n",
    "from dask.delayed import delayed\n",
    "\n",
    "# Record the start time\n",
    "start_time = time.time()\n",
    "\n",
    "\n",
    "# Output path\n",
    "out = '/explore/nobackup/people/spotter5/cnn_mapping/nbac_training/parquet_files'\n",
    "os.makedirs(out, exist_ok=True)\n",
    "\n",
    "# Code to read in all training data\n",
    "all_files = glob.glob('/explore/nobackup/people/spotter5/cnn_mapping/nbac_training/nbac_monthly_ndsi/*.tif')\n",
    "# all_files = glob.glob('/explore/nobackup/people/spotter5/cnn_mapping/nbac_training/l8_sent_collection2_proj_mtbs/*.tif')\n",
    "\n",
    "# Function to process each file\n",
    "@delayed\n",
    "def process_file(f):\n",
    "    try:\n",
    "        # Read in file and convert to numpy\n",
    "        in_file = rioxarray.open_rasterio(f).to_numpy().astype(float).round(3)\n",
    "\n",
    "        # Convert to band last\n",
    "        in_file = np.moveaxis(in_file, 0, 2)\n",
    "\n",
    "        x = in_file[:, :, :-1]\n",
    "        x[x == 0] = np.nan\n",
    "        x = np.round(x, 2)\n",
    "\n",
    "        y = in_file[:, :, -1].astype(float)\n",
    "        y[y < 0] = 0\n",
    "        y[y > 1] = 0\n",
    "\n",
    "        stacked = np.dstack([x, y])\n",
    "\n",
    "        # Reshape the 3D matrix to 2D\n",
    "        rows, cols, bands = stacked.shape\n",
    "        reshaped_data = stacked.reshape(rows * cols, bands)\n",
    "\n",
    "        band_names = ['dNBR', 'dNDVI', 'dNDII', 'y']\n",
    "\n",
    "        # Create a DataFrame\n",
    "        training = pd.DataFrame(reshaped_data, columns=band_names).dropna()\n",
    "\n",
    "        training = training[['dNBR', 'dNDVI', 'dNDII', 'y']]\n",
    "        \n",
    "        return training\n",
    "\n",
    "    except Exception as e:\n",
    "        return pd.DataFrame()  # Return an empty DataFrame on error\n",
    "\n",
    "# Process all files in parallel\n",
    "delayed_results = [process_file(f) for f in all_files]\n",
    "combined_training = dd.from_delayed(delayed_results)\n",
    "\n",
    "# Write to Parquet in chunks\n",
    "combined_training.to_parquet(\n",
    "    os.path.join(out, 'all_training_nbac_ndsi.parquet'),\n",
    "    write_index=False,\n",
    "    engine='pyarrow',\n",
    "    compression='snappy',\n",
    "    write_metadata_file=True,\n",
    "    append=True,\n",
    "    overwrite=False,\n",
    "    compute=True,\n",
    ")\n",
    "\n",
    "# Record the end time\n",
    "end_time = time.time()\n",
    "\n",
    "# Calculate the elapsed time in seconds\n",
    "elapsed_time_seconds = end_time - start_time\n",
    "\n",
    "# Convert seconds to minutes\n",
    "elapsed_time_minutes = elapsed_time_seconds / 60\n",
    "\n",
    "print(f\"NBAC Elapsed time: {elapsed_time_minutes:.2f} minutes\")\n"
   ]
  },
  {
   "cell_type": "code",
   "execution_count": 10,
   "id": "528257c5-b019-4309-8c7a-7c14cb34bea0",
   "metadata": {},
   "outputs": [
    {
     "data": {
      "text/plain": [
       "1725087119.885337"
      ]
     },
     "execution_count": 10,
     "metadata": {},
     "output_type": "execute_result"
    }
   ],
   "source": [
    "end_time"
   ]
  },
  {
   "cell_type": "markdown",
   "id": "7f2db59e-11f2-4c45-970f-8f8fb50aeb55",
   "metadata": {},
   "source": [
    "Memory efficient way"
   ]
  },
  {
   "cell_type": "code",
   "execution_count": 2,
   "id": "feb8ab42-56f3-4216-bd3b-188ee6bce1f4",
   "metadata": {},
   "outputs": [
    {
     "name": "stdout",
     "output_type": "stream",
     "text": [
      "NBAC Elapsed time: 66.27 minutes\n"
     ]
    }
   ],
   "source": [
    "import rioxarray\n",
    "import os\n",
    "import pandas as pd\n",
    "import numpy as np\n",
    "import glob\n",
    "import time\n",
    "import dask\n",
    "from dask.delayed import delayed\n",
    "\n",
    "# Record the start time\n",
    "start_time = time.time()\n",
    "\n",
    "# Output path\n",
    "out = '/explore/nobackup/people/spotter5/cnn_mapping/nbac_training/parquet_files'\n",
    "os.makedirs(out, exist_ok=True)\n",
    "\n",
    "# Code to read in all training data\n",
    "all_files = glob.glob('/explore/nobackup/people/spotter5/cnn_mapping/nbac_training/l8_sent_collection2_proj/*.tif')\n",
    "\n",
    "# Function to process each file\n",
    "@delayed\n",
    "def process_file(f):\n",
    "    try:\n",
    "        # Read in file and convert to numpy\n",
    "        in_file = rioxarray.open_rasterio(f).to_numpy().astype(float).round(3)\n",
    "\n",
    "        # Convert to band last\n",
    "        in_file = np.moveaxis(in_file, 0, 2)\n",
    "\n",
    "        x = in_file[:, :, :-1]\n",
    "        x[x == 0] = np.nan\n",
    "        x = np.round(x, 2)\n",
    "\n",
    "        y = in_file[:, :, -1].astype(float)\n",
    "        y[y < 0] = 0\n",
    "        y[y > 1] = 0\n",
    "\n",
    "        stacked = np.dstack([x, y])\n",
    "\n",
    "        # Reshape the 3D matrix to 2D\n",
    "        rows, cols, bands = stacked.shape\n",
    "        reshaped_data = stacked.reshape(rows * cols, bands)\n",
    "\n",
    "        band_names = ['blue', 'green', 'red', 'NIR', 'SWIR1', 'SWIR2', 'dNBR', 'dNDVI', 'dNDII', 'y']\n",
    "\n",
    "        # Create a DataFrame\n",
    "        training = pd.DataFrame(reshaped_data, columns=band_names).dropna()\n",
    "        training = training[['dNBR', 'dNDVI', 'dNDII', 'y']]\n",
    "\n",
    "        return training\n",
    "\n",
    "    except Exception as e:\n",
    "        return pd.DataFrame()  # Return an empty DataFrame on error\n",
    "\n",
    "# Process and save each file incrementally to avoid memory errors\n",
    "for i, f in enumerate(all_files):\n",
    "    delayed_training = process_file(f)\n",
    "    df = delayed_training.compute()  # Compute the delayed result (process the file)\n",
    "    \n",
    "    # Save each DataFrame to a separate Parquet file\n",
    "    df.to_parquet(\n",
    "        os.path.join(out, f'training_nbac_part_{i}.parquet'),\n",
    "        engine='pyarrow',\n",
    "        compression='snappy',\n",
    "        index=False\n",
    "    )\n",
    "    \n",
    "# Record the end time\n",
    "end_time = time.time()\n",
    "\n",
    "# Calculate the elapsed time in seconds\n",
    "elapsed_time_seconds = end_time - start_time\n",
    "\n",
    "# Convert seconds to minutes\n",
    "elapsed_time_minutes = elapsed_time_seconds / 60\n",
    "\n",
    "print(f\"NBAC Elapsed time: {elapsed_time_minutes:.2f} minutes\")\n"
   ]
  },
  {
   "cell_type": "code",
   "execution_count": null,
   "id": "0557ab21-6b30-46e0-9ed6-feae2a4519ac",
   "metadata": {},
   "outputs": [
    {
     "name": "stderr",
     "output_type": "stream",
     "text": [
      "/home/spotter5/.conda/envs/deeplearning3/lib/python3.10/site-packages/dask/dataframe/_pyarrow_compat.py:17: FutureWarning: Minimal version of pyarrow will soon be increased to 14.0.1. You are using 11.0.0. Please consider upgrading.\n",
      "  warnings.warn(\n"
     ]
    }
   ],
   "source": [
    "import rioxarray\n",
    "import os\n",
    "import pandas as pd\n",
    "import numpy as np\n",
    "import glob\n",
    "import time\n",
    "import dask\n",
    "import dask.dataframe as dd\n",
    "from dask.delayed import delayed\n",
    "\n",
    "# Record the start time\n",
    "start_time = time.time()\n",
    "\n",
    "# Output path for the final Parquet file\n",
    "output_parquet = '/explore/nobackup/people/spotter5/cnn_mapping/nbac_training/parquet_files/all_training_nbac.parquet'\n",
    "\n",
    "# Code to read in all training data\n",
    "all_files = glob.glob('/explore/nobackup/people/spotter5/cnn_mapping/nbac_training/l8_sent_collection2_proj/*.tif')\n",
    "\n",
    "# Function to process each file\n",
    "@delayed\n",
    "def process_file(f):\n",
    "    try:\n",
    "        # Read in file and convert to numpy\n",
    "        in_file = rioxarray.open_rasterio(f).to_numpy().astype(float).round(3)\n",
    "\n",
    "         # Convert to band last\n",
    "        in_file = np.moveaxis(in_file, 0, 2)\n",
    "\n",
    "        x = in_file[:, :, :-1]\n",
    "        x[x == 0] = np.nan\n",
    "        x = np.round(x, 2)\n",
    "\n",
    "        y = in_file[:, :, -1].astype(float)\n",
    "        y[y < 0] = 0\n",
    "        y[y > 1] = 0\n",
    "\n",
    "        stacked = np.dstack([x, y])\n",
    "\n",
    "        # Reshape the 3D matrix to 2D\n",
    "        rows, cols, bands = stacked.shape\n",
    "        reshaped_data = stacked.reshape(rows * cols, bands)\n",
    "\n",
    "        band_names = ['blue', 'green', 'red', 'NIR', 'SWIR1', 'SWIR2', 'dNBR', 'dNDVI', 'dNDII', 'y']\n",
    "\n",
    "        # Create a DataFrame\n",
    "        training = pd.DataFrame(reshaped_data, columns=band_names).dropna()\n",
    "        return training\n",
    "\n",
    "    except Exception as e:\n",
    "        return pd.DataFrame()  # Return an empty DataFrame on error\n",
    "\n",
    "# Process all files in parallel\n",
    "delayed_results = [process_file(f) for f in all_files]\n",
    "\n",
    "# Create a Dask DataFrame from delayed objects\n",
    "combined_training = dd.from_delayed(delayed_results)\n",
    "\n",
    "# Compute and save the combined Dask DataFrame to a single Parquet file\n",
    "combined_training.repartition(npartitions=1).to_parquet(\n",
    "    output_parquet,\n",
    "    write_index=False,\n",
    "    engine='pyarrow',\n",
    "    compression='snappy',\n",
    "    compute=True,\n",
    "    write_metadata_file=False\n",
    ")\n",
    "\n",
    "# Record the end time\n",
    "end_time = time.time()\n",
    "\n",
    "# Calculate the elapsed time in seconds\n",
    "elapsed_time_seconds = end_time - start_time\n",
    "\n",
    "# Convert seconds to minutes\n",
    "elapsed_time_minutes = elapsed_time_seconds / 60\n",
    "\n",
    "print(f\"NBAC Elapsed time: {elapsed_time_minutes:.2f} minutes\")\n"
   ]
  },
  {
   "cell_type": "code",
   "execution_count": 6,
   "id": "0b15a8f1-8d90-4aaa-86f4-44af9bb6024d",
   "metadata": {},
   "outputs": [
    {
     "name": "stdout",
     "output_type": "stream",
     "text": [
      "NBAC Elapsed time: 66.27 minutes\n"
     ]
    }
   ],
   "source": [
    "print(f\"NBAC Elapsed time: {elapsed_time_minutes:.2f} minutes\")\n"
   ]
  },
  {
   "cell_type": "code",
   "execution_count": 4,
   "id": "4a0abb4a-7059-482c-ad6f-1ebc05987725",
   "metadata": {},
   "outputs": [
    {
     "name": "stderr",
     "output_type": "stream",
     "text": [
      "\n",
      "KeyboardInterrupt\n",
      "\n"
     ]
    }
   ],
   "source": [
    "import dask.dataframe as dd\n",
    "import pandas as pd\n",
    "# Read the Parquet file in chunks using Dask\n",
    "mtbs = dd.read_parquet('/explore/nobackup/people/spotter5/cnn_mapping/nbac_training/parquet_files/all_training_mtbs.parquet', blocksize='100MB')\n",
    "\n",
    "# Initialize a counter for the total number of rows\n",
    "total_rows = 0\n",
    "\n",
    "# Iterate through each chunk and calculate the number of rows\n",
    "for chunk in mtbs.to_delayed():\n",
    "    chunk_df = chunk.compute()  # Convert the chunk to a Pandas DataFrame\n",
    "    total_rows += len(chunk_df)  # Add the number of rows in this chunk to the total\n",
    "\n",
    "print(f\"Total number of rows: {total_rows}\")\n",
    "\n",
    "#mtbs is 468203344"
   ]
  },
  {
   "cell_type": "raw",
   "id": "ddfa0aa0-b904-4b58-9efa-3d05d5efb916",
   "metadata": {},
   "source": [
    "Save to one file to combine nbac and mtbs"
   ]
  },
  {
   "cell_type": "code",
   "execution_count": null,
   "id": "4855ed98-3489-49cd-b54a-f33fdb5389e1",
   "metadata": {},
   "outputs": [],
   "source": [
    "import dask.dataframe as dd\n",
    "\n",
    "# Read the large Parquet files with Dask\n",
    "mtbs = dd.read_parquet('/explore/nobackup/people/spotter5/cnn_mapping/nbac_training/parquet_files/all_training_mtbs.parquet')\n",
    "nbac = dd.read_parquet('/explore/nobackup/people/spotter5/cnn_mapping/nbac_training/parquet_files/all_training_nbac.parquet')\n",
    "\n",
    "# Concatenate the two DataFrames\n",
    "combined_df = dd.concat([mtbs, nbac])\n",
    "\n",
    "selected_columns = combined_df[['dNBR', 'dNDVI', 'dNDII', 'y']]\n",
    "\n",
    "# Drop all rows containing NaN values\n",
    "cleaned_df = selected_columns.dropna()\n",
    "\n",
    "# Drop all rows containing NaN values\n",
    "cleaned_df = combined_df.dropna()\n",
    "\n",
    "# Save the cleaned, combined DataFrame to a new Parquet file\n",
    "output_path = '/explore/nobackup/people/spotter5/cnn_mapping/nbac_training/parquet_files/all_training_mtbs_nbac.parquet'\n",
    "cleaned_df.to_parquet(output_path, write_index=False, engine='pyarrow', compression='snappy')\n"
   ]
  },
  {
   "cell_type": "code",
   "execution_count": null,
   "id": "3ff2653c-3c00-42dd-a595-756a9b916b73",
   "metadata": {},
   "outputs": [],
   "source": []
  },
  {
   "cell_type": "code",
   "execution_count": null,
   "id": "a678b427-7e4d-4a58-afa7-59ee8971c22a",
   "metadata": {},
   "outputs": [],
   "source": [
    "import pandas as pd\n",
    "t1 = pd.read_parquet('/explore/nobackup/people/spotter5/cnn_mapping/nbac_training/parquet_files/all_training_mtbs.parquet', columns = ['dNBR', 'dNDVI', 'dNDII', 'y'])\n",
    "t2 = pd.read_parquet('/explore/nobackup/people/spotter5/cnn_mapping/nbac_training/parquet_files/all_training_nbac.parquet', columns = ['dNBR', 'dNDVI', 'dNDII', 'y'])\n",
    "\n",
    "\n",
    "t.head()"
   ]
  },
  {
   "cell_type": "code",
   "execution_count": 1,
   "id": "a2527d69-9a57-41bd-996b-d44027353e33",
   "metadata": {},
   "outputs": [
    {
     "name": "stderr",
     "output_type": "stream",
     "text": [
      "/home/spotter5/.conda/envs/deeplearning3/lib/python3.10/site-packages/dask/dataframe/_pyarrow_compat.py:17: FutureWarning: Minimal version of pyarrow will soon be increased to 14.0.1. You are using 11.0.0. Please consider upgrading.\n",
      "  warnings.warn(\n"
     ]
    },
    {
     "name": "stdout",
     "output_type": "stream",
     "text": [
      "Combined file saved to /explore/nobackup/people/spotter5/cnn_mapping/nbac_training/parquet_files/all_training_na.parquet\n"
     ]
    }
   ],
   "source": [
    "import dask.dataframe as dd\n",
    "\n",
    "# Define the file paths\n",
    "file1 = '/explore/nobackup/people/spotter5/cnn_mapping/nbac_training/parquet_files/all_training_mtbs.parquet'\n",
    "file2 = '/explore/nobackup/people/spotter5/cnn_mapping/nbac_training/parquet_files/all_training_nbac.parquet'\n",
    "new_file = '/explore/nobackup/people/spotter5/cnn_mapping/nbac_training/parquet_files/all_training_na.parquet'\n",
    "\n",
    "# Read the parquet files in chunks using Dask\n",
    "df1 = dd.read_parquet(file1, columns=['dNBR', 'dNDVI', 'dNDII', 'y'], hunksize='100MB')\n",
    "df2 = dd.read_parquet(file2, columns=['dNBR', 'dNDVI', 'dNDII', 'y'], hunksize='100MB')\n",
    "\n",
    "# Concatenate the Dask dataframes\n",
    "combined_df = dd.concat([df1, df2])\n",
    "\n",
    "# Write the combined dataframe to a new parquet file\n",
    "combined_df.to_parquet(new_file)\n",
    "\n",
    "print(f'Combined file saved to {new_file}')"
   ]
  },
  {
   "cell_type": "code",
   "execution_count": 2,
   "id": "2a24a475-5952-4a01-83c3-926bedfe10d3",
   "metadata": {},
   "outputs": [
    {
     "data": {
      "text/plain": [
       "'t'"
      ]
     },
     "execution_count": 2,
     "metadata": {},
     "output_type": "execute_result"
    }
   ],
   "source": [
    "'t'"
   ]
  },
  {
   "cell_type": "code",
   "execution_count": 3,
   "id": "91432118-09a6-4743-bfdb-00f61ac9ff85",
   "metadata": {},
   "outputs": [
    {
     "data": {
      "text/plain": [
       "(<dask_expr.expr.Scalar: expr=(Concat(frames=[ReadParquetFSSpec(4c7ba11), ReadParquetFSSpec(0615f87)], )).size() / 4, dtype=float64>,\n",
       " 4)"
      ]
     },
     "execution_count": 3,
     "metadata": {},
     "output_type": "execute_result"
    }
   ],
   "source": [
    "combined_df.shape"
   ]
  },
  {
   "cell_type": "code",
   "execution_count": null,
   "id": "c1fdba0c-247f-4968-ad55-327ff7466c88",
   "metadata": {},
   "outputs": [],
   "source": [
    "import pandas as pd\n",
    "l = pd.read_parquet('/explore/nobackup/people/spotter5/cnn_mapping/nbac_training/parquet_files/all_training_na.parquet',  columns=['dNBR', 'dNDVI', 'dNDII', 'y']).reset_index(drop = True).head(1000000)\n",
    "l['y'] = l['y'].astype(int)\n",
    "l.shape"
   ]
  },
  {
   "cell_type": "code",
   "execution_count": 9,
   "id": "75ecea0d-2741-4709-85e4-4848f8c35bdf",
   "metadata": {},
   "outputs": [
    {
     "data": {
      "text/plain": [
       "array([0., 1.])"
      ]
     },
     "execution_count": 9,
     "metadata": {},
     "output_type": "execute_result"
    }
   ],
   "source": [
    "l['y'].unique()"
   ]
  },
  {
   "cell_type": "code",
   "execution_count": 12,
   "id": "6acffcb4-8503-46e6-9970-668951f3e786",
   "metadata": {},
   "outputs": [
    {
     "data": {
      "text/html": [
       "<div>\n",
       "<style scoped>\n",
       "    .dataframe tbody tr th:only-of-type {\n",
       "        vertical-align: middle;\n",
       "    }\n",
       "\n",
       "    .dataframe tbody tr th {\n",
       "        vertical-align: top;\n",
       "    }\n",
       "\n",
       "    .dataframe thead th {\n",
       "        text-align: right;\n",
       "    }\n",
       "</style>\n",
       "<table border=\"1\" class=\"dataframe\">\n",
       "  <thead>\n",
       "    <tr style=\"text-align: right;\">\n",
       "      <th></th>\n",
       "      <th>dNBR</th>\n",
       "      <th>dNDVI</th>\n",
       "      <th>dNDII</th>\n",
       "      <th>y</th>\n",
       "    </tr>\n",
       "  </thead>\n",
       "  <tbody>\n",
       "    <tr>\n",
       "      <th>0</th>\n",
       "      <td>-101.0</td>\n",
       "      <td>-45.0</td>\n",
       "      <td>-104.0</td>\n",
       "      <td>0.0</td>\n",
       "    </tr>\n",
       "    <tr>\n",
       "      <th>1</th>\n",
       "      <td>-91.0</td>\n",
       "      <td>-54.0</td>\n",
       "      <td>-107.0</td>\n",
       "      <td>0.0</td>\n",
       "    </tr>\n",
       "    <tr>\n",
       "      <th>2</th>\n",
       "      <td>-66.0</td>\n",
       "      <td>-5.0</td>\n",
       "      <td>-74.0</td>\n",
       "      <td>0.0</td>\n",
       "    </tr>\n",
       "    <tr>\n",
       "      <th>3</th>\n",
       "      <td>-49.0</td>\n",
       "      <td>-105.0</td>\n",
       "      <td>-33.0</td>\n",
       "      <td>0.0</td>\n",
       "    </tr>\n",
       "    <tr>\n",
       "      <th>4</th>\n",
       "      <td>-101.0</td>\n",
       "      <td>-144.0</td>\n",
       "      <td>-94.0</td>\n",
       "      <td>0.0</td>\n",
       "    </tr>\n",
       "  </tbody>\n",
       "</table>\n",
       "</div>"
      ],
      "text/plain": [
       "    dNBR  dNDVI  dNDII    y\n",
       "0 -101.0  -45.0 -104.0  0.0\n",
       "1  -91.0  -54.0 -107.0  0.0\n",
       "2  -66.0   -5.0  -74.0  0.0\n",
       "3  -49.0 -105.0  -33.0  0.0\n",
       "4 -101.0 -144.0  -94.0  0.0"
      ]
     },
     "execution_count": 12,
     "metadata": {},
     "output_type": "execute_result"
    }
   ],
   "source": [
    "l.head().reset_index(drop = True)"
   ]
  },
  {
   "cell_type": "code",
   "execution_count": null,
   "id": "9cd7d57b-18b2-47d8-a9f9-b29fd35be9dc",
   "metadata": {},
   "outputs": [],
   "source": []
  }
 ],
 "metadata": {
  "kernelspec": {
   "display_name": "Python [conda env:.conda-deeplearning3]",
   "language": "python",
   "name": "conda-env-.conda-deeplearning3-py"
  },
  "language_info": {
   "codemirror_mode": {
    "name": "ipython",
    "version": 3
   },
   "file_extension": ".py",
   "mimetype": "text/x-python",
   "name": "python",
   "nbconvert_exporter": "python",
   "pygments_lexer": "ipython3",
   "version": "3.10.11"
  }
 },
 "nbformat": 4,
 "nbformat_minor": 5
}
