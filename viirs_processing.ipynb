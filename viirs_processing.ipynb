{
 "cells": [
  {
   "cell_type": "code",
   "execution_count": null,
   "id": "7f06a192-4520-4fde-a259-70266b3e6eb7",
   "metadata": {},
   "outputs": [],
   "source": [
    "This will taKe viirs shapefile data downloaded from the FRIMS website and export the points to a year for each individual shapefile"
   ]
  },
  {
   "cell_type": "code",
   "execution_count": null,
   "id": "84a4b9c3-f716-434c-a6b6-ebdc2215ff51",
   "metadata": {},
   "outputs": [
    {
     "name": "stderr",
     "output_type": "stream",
     "text": [
      "Linking to GEOS 3.11.0, GDAL 3.5.2, PROJ 9.0.1; sf_use_s2() is TRUE\n",
      "\n",
      "WARNING: different compile-time and runtime versions for GEOS found:\n",
      "\n",
      "Linked against: 3.11.0-CAPI-1.17.0 compiled against: 3.10.3-CAPI-1.16.1\n",
      "\n",
      "It is probably a good idea to reinstall sf, and maybe rgeos and rgdal too\n",
      "\n",
      "── \u001b[1mAttaching packages\u001b[22m ─────────────────────────────────────── tidyverse 1.3.2 ──\n",
      "\u001b[32m✔\u001b[39m \u001b[34mggplot2\u001b[39m 3.3.6      \u001b[32m✔\u001b[39m \u001b[34mpurrr  \u001b[39m 0.3.4 \n",
      "\u001b[32m✔\u001b[39m \u001b[34mtibble \u001b[39m 3.1.8      \u001b[32m✔\u001b[39m \u001b[34mdplyr  \u001b[39m 1.0.10\n",
      "\u001b[32m✔\u001b[39m \u001b[34mtidyr  \u001b[39m 1.2.1      \u001b[32m✔\u001b[39m \u001b[34mstringr\u001b[39m 1.4.1 \n",
      "\u001b[32m✔\u001b[39m \u001b[34mreadr  \u001b[39m 2.1.2      \u001b[32m✔\u001b[39m \u001b[34mforcats\u001b[39m 0.5.2 \n",
      "── \u001b[1mConflicts\u001b[22m ────────────────────────────────────────── tidyverse_conflicts() ──\n",
      "\u001b[31m✖\u001b[39m \u001b[34mdplyr\u001b[39m::\u001b[32mfilter()\u001b[39m masks \u001b[34mstats\u001b[39m::filter()\n",
      "\u001b[31m✖\u001b[39m \u001b[34mdplyr\u001b[39m::\u001b[32mlag()\u001b[39m    masks \u001b[34mstats\u001b[39m::lag()\n",
      "\n",
      "Attaching package: ‘lubridate’\n",
      "\n",
      "\n",
      "The following objects are masked from ‘package:base’:\n",
      "\n",
      "    date, intersect, setdiff, union\n",
      "\n",
      "\n"
     ]
    }
   ],
   "source": [
    "library(sf)\n",
    "library(tidyverse)\n",
    "library(lubridate)\n",
    "\n",
    "#--------this script will save the day of year a burn took place for viirs so that I can convert it back to raster later\n",
    "\n",
    "#note this viirs for circumpolar\n",
    "\n",
    "#just use SNPP which is collection 2, NOAA is collection 1 still\n",
    "one = read_sf('/explore/nobackup/people/spotter5/cnn_mapping/VIIRS/DL_FIRE_SV-C2_351277/fire_archive_SV-C2_365468.shp') %>% \n",
    "  mutate(Year = as.integer(lubridate::year(ACQ_DATE))) %>%\n",
    "  mutate(dob = as.integer(lubridate::yday(ACQ_DATE))) %>%\n",
    "  dplyr::select(Year, dob, CONFIDENCE) \n",
    "\n",
    "#this is 2023, note it is not complete now so don't use\n",
    "# two = read_sf('/explore/nobackup/people/spotter5/cnn_mapping/VIIRS/DL_FIRE_SV-C2_351277/fire_archive_SV-C2_351277.shp')  %>% \n",
    "#   mutate(Year = as.integer(lubridate::year(ACQ_DATE))) %>%\n",
    "#   mutate(dob = as.integer(lubridate::yday(ACQ_DATE))) %>%\n",
    "#   \n",
    "#   dplyr::select(Year, dob,  CONFIDENCE) \n",
    "\n",
    "#merge if needed\n",
    "# viirs = bind_rows(one, two)\n",
    "\n",
    "viirs = one\n",
    "\n",
    "out_path = '/explore/nobackup/people/spotter5/cnn_mapping/VIIRS/pts_by_year'\n",
    "dir.create(out_path, recursive = T)\n",
    "\n",
    "#loop through and send shapefiles out by year\n",
    "for(y in unique(viirs$Year)){\n",
    "  \n",
    "  sub = viirs %>% filter(Year == y) %>% drop_na() %>% st_as_sf()\n",
    "  \n",
    "  #if we want to filter confidence to nominal and high (the two best), here is where to do it, right now I am not\n",
    "  sub <- sub %>% filter(CONFIDENCE %in% c('n', 'h'))\n",
    "  \n",
    "  write_sf(sub, file.path(out_path, paste0(y, '.shp')))\n",
    "  \n",
    "  print(y)\n",
    "  \n",
    "}\n",
    "#save viirs, then we go into the python script viirs_to_ras which will convert the points to rasters with a resolution of 375 meters in the grid of choice\n"
   ]
  },
  {
   "cell_type": "code",
   "execution_count": 1,
   "id": "87a42b98-37c7-4071-a6b4-59b2e3d9d9ae",
   "metadata": {},
   "outputs": [
    {
     "name": "stderr",
     "output_type": "stream",
     "text": [
      "Linking to GEOS 3.11.0, GDAL 3.5.2, PROJ 9.0.1; sf_use_s2() is TRUE\n",
      "\n",
      "WARNING: different compile-time and runtime versions for GEOS found:\n",
      "\n",
      "Linked against: 3.11.0-CAPI-1.17.0 compiled against: 3.10.3-CAPI-1.16.1\n",
      "\n",
      "It is probably a good idea to reinstall sf, and maybe rgeos and rgdal too\n",
      "\n",
      "── \u001b[1mAttaching packages\u001b[22m ─────────────────────────────────────── tidyverse 1.3.2 ──\n",
      "\u001b[32m✔\u001b[39m \u001b[34mggplot2\u001b[39m 3.3.6      \u001b[32m✔\u001b[39m \u001b[34mpurrr  \u001b[39m 0.3.4 \n",
      "\u001b[32m✔\u001b[39m \u001b[34mtibble \u001b[39m 3.1.8      \u001b[32m✔\u001b[39m \u001b[34mdplyr  \u001b[39m 1.0.10\n",
      "\u001b[32m✔\u001b[39m \u001b[34mtidyr  \u001b[39m 1.2.1      \u001b[32m✔\u001b[39m \u001b[34mstringr\u001b[39m 1.4.1 \n",
      "\u001b[32m✔\u001b[39m \u001b[34mreadr  \u001b[39m 2.1.2      \u001b[32m✔\u001b[39m \u001b[34mforcats\u001b[39m 0.5.2 \n",
      "── \u001b[1mConflicts\u001b[22m ────────────────────────────────────────── tidyverse_conflicts() ──\n",
      "\u001b[31m✖\u001b[39m \u001b[34mdplyr\u001b[39m::\u001b[32mfilter()\u001b[39m masks \u001b[34mstats\u001b[39m::filter()\n",
      "\u001b[31m✖\u001b[39m \u001b[34mdplyr\u001b[39m::\u001b[32mlag()\u001b[39m    masks \u001b[34mstats\u001b[39m::lag()\n",
      "\n",
      "Attaching package: ‘lubridate’\n",
      "\n",
      "\n",
      "The following objects are masked from ‘package:base’:\n",
      "\n",
      "    date, intersect, setdiff, union\n",
      "\n",
      "\n"
     ]
    }
   ],
   "source": [
    "library(sf)\n",
    "library(tidyverse)\n",
    "library(lubridate)\n",
    "\n",
    "#--------this script will save the day of year a burn took place for viirs so that I can convert it back to raster later\n",
    "\n",
    "#note this viirs for circumpolar\n",
    "\n",
    "#just use SNPP which is collection 2, NOAA is collection 1 still\n",
    "one = read_sf('/explore/nobackup/people/spotter5/cnn_mapping/VIIRS/DL_FIRE_SV-C2_351277/fire_archive_SV-C2_365468.shp') %>% \n",
    "  mutate(Year = as.integer(lubridate::year(ACQ_DATE))) %>%\n",
    "  mutate(dob = as.integer(lubridate::yday(ACQ_DATE))) %>%\n",
    "  dplyr::select(Year, dob, CONFIDENCE) %>%\n",
    "    filter(\n",
    "        st_geometry_type(.)\n",
    "        %in% c(\"POINT\") )\n",
    "\n"
   ]
  },
  {
   "cell_type": "code",
   "execution_count": 3,
   "id": "9a850f77-4cc7-42ed-b0d1-bd5086dff8cb",
   "metadata": {},
   "outputs": [
    {
     "data": {
      "text/html": [
       "'t'"
      ],
      "text/latex": [
       "'t'"
      ],
      "text/markdown": [
       "'t'"
      ],
      "text/plain": [
       "[1] \"t\""
      ]
     },
     "metadata": {},
     "output_type": "display_data"
    }
   ],
   "source": [
    "'t'"
   ]
  },
  {
   "cell_type": "code",
   "execution_count": 4,
   "id": "c76db2a5-2263-422e-99d1-ea74ed17acc0",
   "metadata": {},
   "outputs": [
    {
     "name": "stderr",
     "output_type": "stream",
     "text": [
      "Registered S3 method overwritten by 'geojsonsf':\n",
      "  method        from   \n",
      "  print.geojson geojson\n",
      "\n"
     ]
    },
    {
     "data": {
      "application/geo+json": {
       "features": [
        {
         "geometry": {
          "coordinates": [
           60.5087,
           67.6595
          ],
          "type": "Point"
         },
         "properties": {
          "CONFIDENCE": "n",
          "Year": 2012,
          "dob": 20
         },
         "type": "Feature"
        },
        {
         "geometry": {
          "coordinates": [
           56.6361,
           67.1808
          ],
          "type": "Point"
         },
         "properties": {
          "CONFIDENCE": "n",
          "Year": 2012,
          "dob": 20
         },
         "type": "Feature"
        },
        {
         "geometry": {
          "coordinates": [
           56.6247,
           67.1774
          ],
          "type": "Point"
         },
         "properties": {
          "CONFIDENCE": "n",
          "Year": 2012,
          "dob": 20
         },
         "type": "Feature"
        },
        {
         "geometry": {
          "coordinates": [
           56.6434,
           66.9513
          ],
          "type": "Point"
         },
         "properties": {
          "CONFIDENCE": "n",
          "Year": 2012,
          "dob": 20
         },
         "type": "Feature"
        },
        {
         "geometry": {
          "coordinates": [
           56.645,
           66.9528
          ],
          "type": "Point"
         },
         "properties": {
          "CONFIDENCE": "n",
          "Year": 2012,
          "dob": 20
         },
         "type": "Feature"
        },
        {
         "geometry": {
          "coordinates": [
           2.207,
           61.5277
          ],
          "type": "Point"
         },
         "properties": {
          "CONFIDENCE": "n",
          "Year": 2012,
          "dob": 20
         },
         "type": "Feature"
        }
       ],
       "type": "FeatureCollection"
      },
      "text/html": [
       "<table class=\"dataframe\">\n",
       "<caption>A sf: 6 × 4</caption>\n",
       "<thead>\n",
       "\t<tr><th scope=col>Year</th><th scope=col>dob</th><th scope=col>CONFIDENCE</th><th scope=col>geometry</th></tr>\n",
       "\t<tr><th scope=col>&lt;int&gt;</th><th scope=col>&lt;int&gt;</th><th scope=col>&lt;chr&gt;</th><th scope=col>&lt;POINT [°]&gt;</th></tr>\n",
       "</thead>\n",
       "<tbody>\n",
       "\t<tr><td>2012</td><td>20</td><td>n</td><td>POINT (60.50869 67.65945)</td></tr>\n",
       "\t<tr><td>2012</td><td>20</td><td>n</td><td>POINT (56.63607 67.18079)</td></tr>\n",
       "\t<tr><td>2012</td><td>20</td><td>n</td><td>POINT (56.62468 67.17742)</td></tr>\n",
       "\t<tr><td>2012</td><td>20</td><td>n</td><td>POINT (56.64341 66.95133)</td></tr>\n",
       "\t<tr><td>2012</td><td>20</td><td>n</td><td>POINT (56.64498 66.95283)</td></tr>\n",
       "\t<tr><td>2012</td><td>20</td><td>n</td><td>POINT (2.206952 61.52773)</td></tr>\n",
       "</tbody>\n",
       "</table>\n"
      ],
      "text/latex": [
       "A sf: 6 × 4\n",
       "\\begin{tabular}{llll}\n",
       " Year & dob & CONFIDENCE & geometry\\\\\n",
       " <int> & <int> & <chr> & <POINT {[}°{]}>\\\\\n",
       "\\hline\n",
       "\t 2012 & 20 & n & POINT (60.50869 67.65945)\\\\\n",
       "\t 2012 & 20 & n & POINT (56.63607 67.18079)\\\\\n",
       "\t 2012 & 20 & n & POINT (56.62468 67.17742)\\\\\n",
       "\t 2012 & 20 & n & POINT (56.64341 66.95133)\\\\\n",
       "\t 2012 & 20 & n & POINT (56.64498 66.95283)\\\\\n",
       "\t 2012 & 20 & n & POINT (2.206952 61.52773)\\\\\n",
       "\\end{tabular}\n"
      ],
      "text/markdown": [
       "\n",
       "A sf: 6 × 4\n",
       "\n",
       "| Year &lt;int&gt; | dob &lt;int&gt; | CONFIDENCE &lt;chr&gt; | geometry &lt;POINT [°]&gt; |\n",
       "|---|---|---|---|\n",
       "| 2012 | 20 | n | POINT (60.50869 67.65945) |\n",
       "| 2012 | 20 | n | POINT (56.63607 67.18079) |\n",
       "| 2012 | 20 | n | POINT (56.62468 67.17742) |\n",
       "| 2012 | 20 | n | POINT (56.64341 66.95133) |\n",
       "| 2012 | 20 | n | POINT (56.64498 66.95283) |\n",
       "| 2012 | 20 | n | POINT (2.206952 61.52773) |\n",
       "\n"
      ],
      "text/plain": [
       "  Year dob CONFIDENCE geometry                 \n",
       "1 2012 20  n          POINT (60.50869 67.65945)\n",
       "2 2012 20  n          POINT (56.63607 67.18079)\n",
       "3 2012 20  n          POINT (56.62468 67.17742)\n",
       "4 2012 20  n          POINT (56.64341 66.95133)\n",
       "5 2012 20  n          POINT (56.64498 66.95283)\n",
       "6 2012 20  n          POINT (2.206952 61.52773)"
      ]
     },
     "metadata": {},
     "output_type": "display_data"
    }
   ],
   "source": [
    "head(one)"
   ]
  },
  {
   "cell_type": "code",
   "execution_count": 5,
   "id": "a01d937c-f1e3-4a75-969b-f2c106184379",
   "metadata": {},
   "outputs": [
    {
     "data": {
      "text/html": [
       "<style>\n",
       ".list-inline {list-style: none; margin:0; padding: 0}\n",
       ".list-inline>li {display: inline-block}\n",
       ".list-inline>li:not(:last-child)::after {content: \"\\00b7\"; padding: 0 .5ex}\n",
       "</style>\n",
       "<ol class=list-inline><li>'n'</li><li>'l'</li><li>'h'</li></ol>\n"
      ],
      "text/latex": [
       "\\begin{enumerate*}\n",
       "\\item 'n'\n",
       "\\item 'l'\n",
       "\\item 'h'\n",
       "\\end{enumerate*}\n"
      ],
      "text/markdown": [
       "1. 'n'\n",
       "2. 'l'\n",
       "3. 'h'\n",
       "\n",
       "\n"
      ],
      "text/plain": [
       "[1] \"n\" \"l\" \"h\""
      ]
     },
     "metadata": {},
     "output_type": "display_data"
    }
   ],
   "source": [
    "unique(one$CONFIDENCE)"
   ]
  },
  {
   "cell_type": "code",
   "execution_count": 6,
   "id": "469a7486-5ee7-42e1-ab46-3b9250bb94e3",
   "metadata": {},
   "outputs": [
    {
     "name": "stderr",
     "output_type": "stream",
     "text": [
      "Warning message in dir.create(out_path, recursive = T):\n",
      "“'/explore/nobackup/people/spotter5/cnn_mapping/VIIRS/pts_by_year' already exists”\n"
     ]
    },
    {
     "name": "stdout",
     "output_type": "stream",
     "text": [
      "[1] 2012\n",
      "[1] 2013\n",
      "[1] 2014\n",
      "[1] 2015\n",
      "[1] 2016\n",
      "[1] 2017\n",
      "[1] 2018\n",
      "[1] 2019\n",
      "[1] 2020\n",
      "[1] 2021\n",
      "[1] 2022\n"
     ]
    }
   ],
   "source": [
    "viirs = one\n",
    "\n",
    "out_path = '/explore/nobackup/people/spotter5/cnn_mapping/VIIRS/pts_by_year'\n",
    "dir.create(out_path, recursive = T)\n",
    "\n",
    "#loop through and send shapefiles out by year\n",
    "for(y in unique(viirs$Year)){\n",
    "  \n",
    "  sub = viirs %>% filter(Year == y) %>% drop_na() %>% st_as_sf() %>%\n",
    "    filter(\n",
    "        st_geometry_type(.)\n",
    "        %in% c(\"POINT\") )\n",
    "  \n",
    "  #if we want to filter confidence to nominal and high (the two best), here is where to do it, right now I am not\n",
    "  sub <- sub %>% filter(CONFIDENCE %in% c('n', 'h'))\n",
    "  \n",
    "  write_sf(sub, file.path(out_path, paste0(y, '.shp')))\n",
    "  \n",
    "  print(y)\n",
    "  \n",
    "}"
   ]
  },
  {
   "cell_type": "code",
   "execution_count": 7,
   "id": "c6d5f4a9-1864-4e1a-b566-fde5320ae8a7",
   "metadata": {},
   "outputs": [
    {
     "data": {
      "text/html": [
       "'t'"
      ],
      "text/latex": [
       "'t'"
      ],
      "text/markdown": [
       "'t'"
      ],
      "text/plain": [
       "[1] \"t\""
      ]
     },
     "metadata": {},
     "output_type": "display_data"
    }
   ],
   "source": [
    "'t'"
   ]
  },
  {
   "cell_type": "code",
   "execution_count": null,
   "id": "289ecf1c-6f10-42c3-ad69-65d59361593e",
   "metadata": {},
   "outputs": [],
   "source": []
  }
 ],
 "metadata": {
  "kernelspec": {
   "display_name": "R [conda env:.conda-spotter-r]",
   "language": "R",
   "name": "conda-env-.conda-spotter-r-r"
  },
  "language_info": {
   "codemirror_mode": "r",
   "file_extension": ".r",
   "mimetype": "text/x-r-source",
   "name": "R",
   "pygments_lexer": "r",
   "version": "4.3.3"
  }
 },
 "nbformat": 4,
 "nbformat_minor": 5
}
