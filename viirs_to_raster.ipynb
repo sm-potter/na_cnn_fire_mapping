{
 "cells": [
  {
   "cell_type": "markdown",
   "id": "cdc5893c-bddc-4108-a127-5a35b7f8d4f3",
   "metadata": {},
   "source": [
    "This script will convert the viirs pts to raster to be uploaded to earth engine and used as a mask"
   ]
  },
  {
   "cell_type": "code",
   "execution_count": null,
   "id": "60443316-754d-45cf-b3ff-604b13793807",
   "metadata": {},
   "outputs": [],
   "source": [
    "import arcpy, glob, os, sys\n",
    "from arcpy import env\n",
    "from arcpy.sa import *\n",
    "import numpy as np\n",
    "arcpy.env.overwriteOutput = True\n",
    "arcpy.CheckOutExtension(\"Spatial\")\n",
    "from arcpy.sa import *\n",
    "\n",
    "years = np.arange(2013, 2023, 1)\n",
    "\n",
    "in_path = r\"N:\\people\\spotter5\\cnn_mapping\\VIIRS\\pts_by_year\"\n",
    "out_path = r\"N:\\people\\spotter5\\cnn_mapping\\VIIRS\\raster_by_year\"\n",
    "if not os.path.isdir(out_path):\n",
    "    os.makedirs(out_path)\n",
    "\n",
    "for year in years: \n",
    "    \n",
    "    with arcpy.EnvManager(outputCoordinateSystem='PROJCS[\"NSIDC_Sea_Ice_Polar_Stereographic_North\",GEOGCS[\"GCS_Hughes_1980\",DATUM[\"D_Hughes_1980\",SPHEROID[\"Hughes_1980\",6378273.0,298.279411123064]],PRIMEM[\"Greenwich\",0.0],UNIT[\"Degree\",0.0174532925199433]],PROJECTION[\"Stereographic_North_Pole\"],PARAMETER[\"False_Easting\",0.0],PARAMETER[\"False_Northing\",0.0],PARAMETER[\"Central_Meridian\",-45.0],PARAMETER[\"Standard_Parallel_1\",70.0],UNIT[\"Meter\",1.0]]', cellSize=375):\n",
    "        arcpy.conversion.PointToRaster(\n",
    "            in_features=os.path.join(in_path, str(year) + '.shp'),\n",
    "            value_field=\"Year\",\n",
    "            out_rasterdataset=os.path.join(out_path, str(year) + \".tif\"),\n",
    "            cell_assignment=\"MOST_FREQUENT\",\n",
    "            priority_field=\"NONE\",\n",
    "            cellsize=375,\n",
    "            build_rat=\"BUILD\"\n",
    "        )\n",
    "        \n",
    "        print(year)\n",
    "\n"
   ]
  }
 ],
 "metadata": {
  "kernelspec": {
   "display_name": "Python [conda env:.conda-gee_ml]",
   "language": "python",
   "name": "conda-env-.conda-gee_ml-py"
  },
  "language_info": {
   "codemirror_mode": {
    "name": "ipython",
    "version": 3
   },
   "file_extension": ".py",
   "mimetype": "text/x-python",
   "name": "python",
   "nbconvert_exporter": "python",
   "pygments_lexer": "ipython3",
   "version": "3.10.6"
  }
 },
 "nbformat": 4,
 "nbformat_minor": 5
}
